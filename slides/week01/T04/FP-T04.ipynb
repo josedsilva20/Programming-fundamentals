{
 "cells": [
  {
   "cell_type": "markdown",
   "metadata": {
    "slideshow": {
     "slide_type": "slide"
    }
   },
   "source": [
    "# <center>Fundamentos da Progamação </center>\n",
    "\n",
    "<br>\n",
    "<br>\n",
    "\n",
    "## <center>Aula 4</center>\n",
    "### <center>Elementos básicos de programação</center> \n",
    "\n",
    "##### <center> Expressões. Tipos elementares de informação. Nomes e atribuição. </center>\n",
    "\n",
    "\n",
    "\n",
    "<br>\n",
    "<br>\n",
    "\n",
    "\n",
    "\n",
    "#### <center>Alberto Abad, IST, 2024-25</center>\n"
   ]
  },
  {
   "cell_type": "markdown",
   "metadata": {
    "slideshow": {
     "slide_type": "slide"
    }
   },
   "source": [
    "## <center>Interpretador de Python</center>\n",
    "\n",
    "<br>\n",
    "\n",
    "### Modo interativo (read-eval-print loop)\n",
    "\n",
    "```\n",
    "Python 3.7.0 (v3.7.0:1bf9cc5093, Jun 26 2018, 23:26:24)\n",
    "[Clang 6.0 (clang-600.0.57)] on darwin\n",
    "Type \"help\", \"copyright\", \"credits\" or \"license\" for more information.\n",
    ">>> 2+3\n",
    "5\n",
    ">>> print(\"Hello world!\")\n",
    "Hello world!\n",
    ">>>\n",
    "```\n",
    "- O símbolo `>>>` indica que podemos introduzir o próximo comando, em **BNF**:\n",
    "\n",
    "```<comando> ::= <expressão> | <instrução> | <definição>```\n"
   ]
  },
  {
   "cell_type": "code",
   "execution_count": null,
   "metadata": {
    "slideshow": {
     "slide_type": "-"
    }
   },
   "outputs": [],
   "source": []
  },
  {
   "cell_type": "markdown",
   "metadata": {
    "slideshow": {
     "slide_type": "slide"
    }
   },
   "source": [
    "## <center>Elementos básicos de programação - Expressões</center>\n",
    "\n",
    "<br/>\n",
    "<br/>\n",
    "<br/>\n",
    "<br/>\n",
    "\n",
    "\n",
    "### BNF:\n",
    "<br/>\n",
    "\n",
    "```<expressão> ::= <constante> | <expressão composta> | <nome> | <chamada função>```\n",
    "\n",
    "\n",
    "<br/>\n",
    "<br/>\n",
    "<br/>\n"
   ]
  },
  {
   "cell_type": "markdown",
   "metadata": {
    "slideshow": {
     "slide_type": "slide"
    }
   },
   "source": [
    "## <center>Elementos básicos de programação - Expressões constantes</center>\n",
    "\n",
    "###  Números inteiros e reais, valores lógicos e cadeias de carateres (strings)\n",
    "- 2016\n",
    "- 2\n",
    "- 2.0\n",
    "- -2.0\n",
    "\n",
    "\n",
    "- +2.0\n",
    "- 10e-12\n",
    "- 6376754588877162243232221200091999228887333\n",
    "- 0.00000000000000000000000000000000000001\n",
    "\n",
    "\n",
    "- _True_\n",
    "- _False_  (# **atenção** _true_ e _false_ !)\n",
    "\n",
    "\n",
    "\n",
    "\n",
    "\n",
    "- 'Hello world'\n",
    "- \"Hello\"\n",
    "- \"As strings são sequencias\" \n"
   ]
  },
  {
   "cell_type": "code",
   "execution_count": null,
   "metadata": {
    "slideshow": {
     "slide_type": "-"
    }
   },
   "outputs": [],
   "source": []
  },
  {
   "cell_type": "markdown",
   "metadata": {
    "slideshow": {
     "slide_type": "slide"
    }
   },
   "source": [
    "## <center>Elementos básicos de programação - Expressões compostas</center>\n",
    "\n",
    "###  BNF:\n",
    "\n",
    "```\n",
    "<expressão composta> ::=\n",
    "        <operador> <expressão> |\n",
    "        <operador> (<expressão>) |\n",
    "        <expressão> <operador> <expressão> |\n",
    "        (<expressão> <operador> <expressão>)\n",
    "```\n",
    "- **Operadores built-in:** not, -(simétrico), *, /, //, %, +, -(subtração), <, >, ==, >=, <=, !=, and, or, etc.\n",
    "\n",
    "#### Exemplos\n",
    "\n",
    "- -5\n",
    "- -(5)\n",
    "\n",
    "\n",
    "\n",
    "- not False\n",
    "- 2012 - 1958\n",
    "\n",
    "\n",
    "\n",
    "- 3 * 24 + 12\n",
    "- 3 * (24 + 12)\n",
    "\n",
    "\n",
    "\n",
    "- 3.0 * (24 + 12)\n",
    "- 7 > 12\n",
    "\n",
    "\n",
    "- 23 / 7 * 5 + 12.5\n",
    "- 7 // 2\n"
   ]
  },
  {
   "cell_type": "markdown",
   "metadata": {
    "slideshow": {
     "slide_type": "skip"
    }
   },
   "source": [
    "## <center>Elementos básicos de programação - Expressões compostas</center>\n",
    "\n",
    "<br/>\n",
    "\n",
    "\n",
    "### Exemplos\n",
    "- -5\n",
    "- -(5)\n",
    "- not False\n",
    "- 2012 - 1958\n",
    "- 3 * 24 + 12\n",
    "- 3 * (24 + 12)\n",
    "- 3.0 * (24 + 12)\n",
    "- 7 > 12\n",
    "- 23 / 7 * 5 + 12.5"
   ]
  },
  {
   "cell_type": "code",
   "execution_count": null,
   "metadata": {
    "slideshow": {
     "slide_type": "-"
    }
   },
   "outputs": [],
   "source": [
    "5 != 5"
   ]
  },
  {
   "cell_type": "markdown",
   "metadata": {
    "slideshow": {
     "slide_type": "slide"
    }
   },
   "source": [
    "## <center>Expressões compostas: Prioridade dos operadores (1)</center>\n",
    "\n",
    "### Regra #1 (De maior a menor prioridade)\n",
    "\n",
    "<center><img src=\"imgs/prioridade.png\" width=\"35%\"></center>\n"
   ]
  },
  {
   "cell_type": "markdown",
   "metadata": {
    "slideshow": {
     "slide_type": "slide"
    }
   },
   "source": [
    "## <center>Expressões compostas: Prioridade dos operadores (2)</center>\n",
    "\n",
    "\n",
    "### Regra #2\n",
    "- Em caso de igualdade, de esquerda para direita\n",
    "\n",
    "Official info: https://docs.python.org/3/reference/expressions.html#operator-precedence"
   ]
  },
  {
   "cell_type": "markdown",
   "metadata": {
    "slideshow": {
     "slide_type": "slide"
    }
   },
   "source": [
    "## <center>Elementos básicos de programação - Tipos elementares</center>\n",
    "\n",
    "<br/>\n",
    "\n",
    "- **Tipos:** Conjuntos de entidades (valores) + operações\n",
    "- Tipos elementares vs tipos estruturados\n",
    "- 3 tipos elementares em Python: \n",
    "    - tipo inteiro, `int`\n",
    "    - tipo real,`float`\n",
    "    - tipo lógico, `bool`\n",
    "    \n",
    "- Usar `type(value)` ou `isinstance(value, type)`para verificar o tipo duma expressão.\n",
    "- Tipos não elementares (strings, tuplos, listas, dictionarios, etc.) nas próximas semanas \n"
   ]
  },
  {
   "cell_type": "code",
   "execution_count": null,
   "metadata": {
    "slideshow": {
     "slide_type": "-"
    }
   },
   "outputs": [],
   "source": [
    "isinstance(3.5, float)"
   ]
  },
  {
   "cell_type": "markdown",
   "metadata": {
    "slideshow": {
     "slide_type": "slide"
    }
   },
   "source": [
    "## <center>Elementos básicos de programação - Tipos elementares</center>\n",
    "\n",
    "\n",
    "### O tipo inteiro (`int`)\n",
    "\n",
    "<center><img src=\"imgs/inteiros.png\" width=\"50%\"></center>\n",
    "\n",
    "#### Exemplos\n",
    "\n",
    "- -12\n",
    "- 7 // 2\n",
    "- 2 + 7*5\n",
    "\n",
    "\n",
    "- 7 % 2 \n",
    "- 5 * (7 // 2)\n",
    "- abs(-3)\n",
    "\n"
   ]
  },
  {
   "cell_type": "code",
   "execution_count": null,
   "metadata": {
    "slideshow": {
     "slide_type": "-"
    }
   },
   "outputs": [],
   "source": [
    "type(5 * (7 // 2))"
   ]
  },
  {
   "cell_type": "markdown",
   "metadata": {
    "collapsed": true,
    "slideshow": {
     "slide_type": "slide"
    }
   },
   "source": [
    "## <center>Elementos básicos de programação - Tipos elementares</center>\n",
    "\n",
    "### O tipo real (`float`)\n",
    "<center><img src=\"imgs/reais.png\" width=\"50%\"></center>\n",
    "\n",
    "- Notação decimal e notação científica\n",
    "- Atenção sobrecarga (*overloading*) operadores!\n",
    "- Atençaõ conversão de tipos implícito (*coercion*)\n"
   ]
  },
  {
   "cell_type": "code",
   "execution_count": null,
   "metadata": {},
   "outputs": [],
   "source": [
    "1 + 1.0"
   ]
  },
  {
   "cell_type": "markdown",
   "metadata": {
    "collapsed": true,
    "slideshow": {
     "slide_type": "slide"
    }
   },
   "source": [
    "## <center>Elementos básicos de programação - Tipos elementares</center>\n",
    "\n",
    "\n",
    "### O tipo real (`float`)\n",
    "#### Exemplos\n",
    "- 7.7\n",
    "- 7.\n",
    "- .4\n",
    "- 2.7e4\n",
    "- 200000000000000000000000000000000000.\n",
    "- .00000000000000000000000000000000000000000000000000001\n",
    "- 4 + 7.3      _(coercion)_\n",
    "- 1 * 3        _(overloading 1.0*3.0)_\n",
    "- 1.0          _(vs 1)_"
   ]
  },
  {
   "cell_type": "code",
   "execution_count": null,
   "metadata": {
    "slideshow": {
     "slide_type": "-"
    }
   },
   "outputs": [],
   "source": [
    "1 == 1.0"
   ]
  },
  {
   "cell_type": "markdown",
   "metadata": {
    "slideshow": {
     "slide_type": "slide"
    }
   },
   "source": [
    "## <center>Elementos básicos de programação - Tipos elementares</center>\n",
    "\n",
    "<br/>\n",
    "\n",
    "\n",
    "### Conversão explícita de tipos inteiros e reais (casting)\n",
    "\n",
    "<center><img src=\"imgs/converter.png\" width=\"60%\"></center>\n",
    "\n",
    "#### Exemplos\n",
    "\n",
    "- round(3.4)\n",
    "- int(3.4)\n",
    "- float(2)"
   ]
  },
  {
   "cell_type": "code",
   "execution_count": null,
   "metadata": {},
   "outputs": [],
   "source": []
  },
  {
   "cell_type": "markdown",
   "metadata": {
    "slideshow": {
     "slide_type": "slide"
    }
   },
   "source": [
    "## <center>Elementos básicos de programação - Tipos elementares</center>\n",
    "\n",
    "\n",
    "### O tipo lógico (`bool`)\n",
    "\n",
    "<center><img src=\"imgs/bool.png\" width=\"35%\"></center>\n",
    "\n",
    "\n",
    "#### Exemplos\n",
    "- True\n",
    "- False\n",
    "- not True\n",
    "- not False\n",
    "\n",
    "\n",
    "- not 5\n",
    "- False and a (*short-circuit*)\n",
    "- True or b\n",
    "- not '' (*equivalent: not 0*)"
   ]
  },
  {
   "cell_type": "code",
   "execution_count": null,
   "metadata": {},
   "outputs": [],
   "source": []
  },
  {
   "cell_type": "markdown",
   "metadata": {
    "slideshow": {
     "slide_type": "slide"
    }
   },
   "source": [
    "## <center>Elementos básicos de programação - Nomes e atribuição</center>\n",
    "\n",
    "<br/>\n",
    "<br/>\n",
    "\n",
    "- Nome: identificar entidade computacional \n",
    "- Atribuição: associar um nome a um valor/entidade\n",
    "\n",
    "\n",
    "### BNF\n",
    "\n",
    "```<nome> ::= <nome simples> | <nome indexado> | <nome composto>```\n",
    "\n",
    "- Por enquanto veremos o `<nome simples>`..."
   ]
  },
  {
   "cell_type": "markdown",
   "metadata": {
    "slideshow": {
     "slide_type": "slide"
    }
   },
   "source": [
    "## <center>Elementos básicos de programação - Nomes</center>\n",
    "\n",
    "### Nome simples BNF\n",
    "\n",
    "\n",
    "```<nome simples> ::= <inicial> <subsequente>*```\n",
    "```\n",
    "<inicial> ::=\n",
    "    _ | A | B | C | D | E | F | G | H | I | J | K | L | M |\n",
    "    N | O | P | Q | R | S | T | U | V | W | X | Y | Z |\n",
    "    a | b | c | d | e | f | g | h | i | j | k | l | m |\n",
    "    n | o | p | q | r | s | t | u | v | w | x | y | z\n",
    "```\n",
    "    \n",
    "```\n",
    "<subsequente> ::= <inicial> | 0 | 1 | 2 | 3 | 4 | 5 | 6 | 7 | 8 | 9\n",
    "```\n",
    "\n",
    "#### Exemplos\n",
    "\n",
    "- xpto, XPTO, Xpto, Taxa_de_Juro, _largura,\n",
    "- turma FP, duvida?, ola!\n",
    "- ...\n"
   ]
  },
  {
   "cell_type": "markdown",
   "metadata": {
    "slideshow": {
     "slide_type": "slide"
    }
   },
   "source": [
    "## <center>Elementos básicos de programação - Nomes</center>\n",
    "\n",
    "<br/>\n",
    "\n",
    "### Nomes reservados (Keywords)\n",
    "\n",
    "<br/>\n",
    "\n",
    "\n",
    "```\n",
    "False      class      finally    is         return\n",
    "None       continue   for        lambda     try\n",
    "True       def        from       nonlocal   while\n",
    "and        del        global     not        with\n",
    "as         elif       if         or         yield\n",
    "assert     else       import     pass\n",
    "break      except     in         raise\n",
    "```"
   ]
  },
  {
   "cell_type": "code",
   "execution_count": null,
   "metadata": {
    "scrolled": true
   },
   "outputs": [],
   "source": [
    "False = True"
   ]
  },
  {
   "cell_type": "markdown",
   "metadata": {
    "slideshow": {
     "slide_type": "slide"
    }
   },
   "source": [
    "## <center>Elementos básicos de programação - Atribuição</center>\n",
    "\n",
    "<br/>\n",
    "<br/>\n",
    "\n",
    "\n",
    "### Atribuição simples e múltipla\n",
    "\n",
    "\n",
    "```<instrução atribuição> ::= <nome> = <expressão> | \n",
    "                <nome> , <instrução atribuição>, <expressão>```\n",
    "\n",
    "- A atribuição é uma INSTRUÇÃO:\n",
    "    - As instruções são executadas (têm um *efeito*)\n",
    "    - As expressões são avaliadas (têm um *valor*)\n",
    "\n",
    "- Ordem: Primeiro avaliação da expressão, logo atribuição\n",
    "    \n",
    "- Ambiente ou espaço de nomes (*namespace*)"
   ]
  },
  {
   "cell_type": "markdown",
   "metadata": {
    "slideshow": {
     "slide_type": "slide"
    }
   },
   "source": [
    "## <center>Elementos básicos de programação - Atribuição</center>\n",
    "\n",
    "<br/>\n",
    "\n",
    "### Atribuição simples e múltipla \n",
    "\n",
    "#### Exemplos\n",
    "\n",
    "- not = 9\n",
    "- NOT = 9\n",
    "- x\n",
    "- x = 8\n",
    "\n",
    "\n",
    "- x\n",
    "- y\n",
    "- y = x * 2\n",
    "- x = 7\n",
    "\n",
    "\n",
    "- x , z = 10 , 3\n",
    "- x + z\n",
    "- x , z = z , x\n",
    "- x\n",
    "\n",
    "\n",
    "- z\n",
    "- z , a = a + 3 , 1"
   ]
  },
  {
   "cell_type": "code",
   "execution_count": null,
   "metadata": {
    "slideshow": {
     "slide_type": "-"
    }
   },
   "outputs": [],
   "source": []
  },
  {
   "cell_type": "markdown",
   "metadata": {
    "slideshow": {
     "slide_type": "slide"
    }
   },
   "source": [
    "## <center>Elementos básicos de programação - Tarefas próxima aula</center>\n",
    "\n",
    "<br>\n",
    "\n",
    "\n",
    "- Trabalhar matéria apresentada hoje\n",
    "- Ler seções 2.4-2.5 do livro da UC\n",
    "\n",
    "<br>\n",
    "\n",
    "<center><img src=\"imgs/practice_book.png\" width=\"80%\"></center>\n",
    "\n"
   ]
  }
 ],
 "metadata": {
  "celltoolbar": "Slideshow",
  "kernelspec": {
   "display_name": "Python 3 (ipykernel)",
   "language": "python",
   "name": "python3"
  },
  "language_info": {
   "codemirror_mode": {
    "name": "ipython",
    "version": 3
   },
   "file_extension": ".py",
   "mimetype": "text/x-python",
   "name": "python",
   "nbconvert_exporter": "python",
   "pygments_lexer": "ipython3",
   "version": "3.9.6"
  }
 },
 "nbformat": 4,
 "nbformat_minor": 2
}
