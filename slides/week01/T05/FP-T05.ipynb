{
 "cells": [
  {
   "cell_type": "markdown",
   "metadata": {
    "slideshow": {
     "slide_type": "slide"
    }
   },
   "source": [
    "# <center>Fundamentos da Progamação </center>\n",
    "\n",
    "<br>\n",
    "<br>\n",
    "\n",
    "## <center>Aula 5</center>\n",
    "### <center>Elementos básicos de programação</center> \n",
    "\n",
    "##### <center> Predicados e condições. Comunicação com o exterior.</center>\n",
    "\n",
    "\n",
    "\n",
    "<br>\n",
    "<br>\n",
    "\n",
    "\n",
    "\n",
    "#### <center>Alberto Abad, IST, 2024-25</center>\n"
   ]
  },
  {
   "cell_type": "markdown",
   "metadata": {
    "slideshow": {
     "slide_type": "slide"
    }
   },
   "source": [
    "## <center>Elementos básicos de programação - Predicados e condições</center>\n",
    "\n",
    "- Um _predicado_ é uma operação cujo valor é lógico: _True_ or _False_\n",
    "- Uma _condição_ é uma expressão cujo valor é lógico\n",
    "- As condições podem ser combinadas com os operadores lógicos, ex: ```and```, ```or```\n",
    "- Operadores relacionais em Python:\n",
    "\n",
    "\n",
    "<center><img src=\"imgs/operadores_relacionais.png\" width=\"50%\"></center>"
   ]
  },
  {
   "cell_type": "code",
   "execution_count": null,
   "metadata": {},
   "outputs": [],
   "source": [
    "not \"\""
   ]
  },
  {
   "cell_type": "markdown",
   "metadata": {
    "slideshow": {
     "slide_type": "slide"
    }
   },
   "source": [
    "## <center>Elementos básicos de programação - Predicados e condições</center>\n",
    "\n",
    "### Exemplos\n",
    "\n",
    "- nota = 17 (é isto um predicado?)\n",
    "- nota > 10\n",
    "- 3 < nota % 2\n",
    "- 3 < nota // 2\n",
    "- nota < 9*2 and nota > 10\n",
    "- nota < 9\\*2 < 25 (*syntactic sugar*)\n",
    "- not 10 (qq expressão em Python pode ser tomado por condição)\n",
    "   "
   ]
  },
  {
   "cell_type": "code",
   "execution_count": null,
   "metadata": {
    "slideshow": {
     "slide_type": "-"
    }
   },
   "outputs": [],
   "source": []
  },
  {
   "cell_type": "markdown",
   "metadata": {
    "slideshow": {
     "slide_type": "slide"
    }
   },
   "source": [
    "## <center>Elementos básicos de programação - Leitura e escrita </center>\n",
    "### Leitura de dados (do teclado)\n",
    "#### BNF\n",
    "\n",
    "```<leitura de dados> ::= input() | input(<informação>)```\n",
    "\n",
    "```<informação> ::= <cadeia de carateres>```\n",
    "\n",
    "- A função ```input``` retorna a _string_ introduzida\n",
    "    - A _string_ pode conter caracteres de escape, e.g., ```\\n```, ```\\r```, ```\\t```, ```\\v```, etc.\n",
    "- Exemplos:\n",
    "```python\n",
    "input()\n",
    "input('Escreva alguma coisa\\n\\t ->')\n",
    "```\n"
   ]
  },
  {
   "cell_type": "code",
   "execution_count": null,
   "metadata": {},
   "outputs": [],
   "source": [
    "input('Escreva a\\n\\tsua idade:')"
   ]
  },
  {
   "cell_type": "markdown",
   "metadata": {
    "slideshow": {
     "slide_type": "slide"
    }
   },
   "source": [
    "## <center>Elementos básicos de programação - Leitura e escrita </center>\n",
    "\n",
    "### Função de avaliação de _strings_\n",
    "\n",
    "#### BNF\n",
    "```<função de avaliação> ::= eval(<cadeia de caracteres>)```\n",
    "\n",
    "#### Examples\n",
    "```python\n",
    "eval('200 + 2')   # avalia a expressão e retorna inteiro\n",
    "type(eval('200 + 2')) \n",
    "eval('2 > 1')     # avalia a expressão e retorna lógico\n",
    "x = eval(input(\"Introduza uma expressão:\\n->\\t\"))\n",
    "```\n"
   ]
  },
  {
   "cell_type": "code",
   "execution_count": null,
   "metadata": {},
   "outputs": [],
   "source": [
    "eval('2 > 1')"
   ]
  },
  {
   "cell_type": "markdown",
   "metadata": {
    "slideshow": {
     "slide_type": "slide"
    }
   },
   "source": [
    "## <center>Elementos básicos de programação - Leitura e escrita </center>\n",
    "\n",
    "### Função de escrita (no ecrã)\n",
    "\n",
    "#### BNF\n",
    "\n",
    "\n",
    "```<saída> ::= print() | print(<expressões>)```\n",
    "\n",
    "```<expressões> ::= <expressão> | <expressão>, <expressões>```\n",
    "\n",
    "#### Exemplos\n",
    "```python\n",
    "a = 2\n",
    "b = 10\n",
    "print(\"a = \", a, \"b = \", b)\n",
    "print(\"a = \", a, \"\\nb = \", b)\n",
    "```\n"
   ]
  },
  {
   "cell_type": "code",
   "execution_count": null,
   "metadata": {},
   "outputs": [],
   "source": [
    "a = 2\n",
    "b = 10\n",
    "print(\"a = \", a, \"b = \", b)\n",
    "print(\"a = \", a, \"\\n\\tb = \", b)"
   ]
  },
  {
   "cell_type": "markdown",
   "metadata": {
    "slideshow": {
     "slide_type": "slide"
    }
   },
   "source": [
    "## <center>Elementos básicos de programação - Leitura e escrita </center>\n",
    "\n",
    "### Outro exemplo:\n",
    "\n",
    "```python\n",
    "x = eval(input(\"Introduza uma expressão:\\n\\t\"))\n",
    "y = input(\"Introduza uma string:\\n\\t\")\n",
    "print(x, \"e\", y)\n",
    "```\n",
    "\n",
    "- Qual é o valor resultante de  avaliar a funçaõ `print()`?\n",
    "\n",
    "```python\n",
    "val = print (x, \"e\", y)\n",
    "print(val)\n",
    "``` \n",
    "    \n"
   ]
  },
  {
   "cell_type": "code",
   "execution_count": null,
   "metadata": {},
   "outputs": [],
   "source": [
    "print(x)"
   ]
  },
  {
   "cell_type": "markdown",
   "metadata": {
    "slideshow": {
     "slide_type": "slide"
    }
   },
   "source": [
    "## <center>Elementos básicos de programação - Tarefas próxima semana</center>\n",
    "\n",
    "<br>\n",
    "\n",
    "\n",
    "- Trabalhar matéria apresentada esta semana\n",
    "- Ler seções 2.6-2.9 do livro da UC\n",
    "- Nas aulas de problemas da próxima semana:\n",
    "    - Mini-teste BNF no início da primeira aula (L03)\n",
    "    - L03: Elementos básicos de programanção I \n",
    "    - L04: Elementos básicos de programanção II \n",
    "\n",
    "<br>\n",
    "\n",
    "<center><img src=\"imgs/practice_book.png\" width=\"50%\"></center>\n",
    "\n",
    "\n"
   ]
  },
  {
   "cell_type": "code",
   "execution_count": null,
   "metadata": {},
   "outputs": [],
   "source": [
    " "
   ]
  }
 ],
 "metadata": {
  "celltoolbar": "Slideshow",
  "kernelspec": {
   "display_name": "Python 3 (ipykernel)",
   "language": "python",
   "name": "python3"
  },
  "language_info": {
   "codemirror_mode": {
    "name": "ipython",
    "version": 3
   },
   "file_extension": ".py",
   "mimetype": "text/x-python",
   "name": "python",
   "nbconvert_exporter": "python",
   "pygments_lexer": "ipython3",
   "version": "3.9.6"
  }
 },
 "nbformat": 4,
 "nbformat_minor": 2
}
