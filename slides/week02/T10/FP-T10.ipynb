{
 "cells": [
  {
   "cell_type": "markdown",
   "metadata": {
    "slideshow": {
     "slide_type": "slide"
    }
   },
   "source": [
    "# <center>Fundamentos da Programação</center>\n",
    "\n",
    "<br>\n",
    "<br>\n",
    "\n",
    "## <center>Aula 10</center>\n",
    "#### <center> Funções </center>\n",
    "\n",
    "<center> Visualização e execução de programas. Depuração. Exemplos. </center>\n",
    "\n",
    "\n",
    "<br>\n",
    "<br>\n",
    "\n",
    "\n",
    "#### <center>Alberto Abad, IST, 2024-25</center>"
   ]
  },
  {
   "cell_type": "markdown",
   "metadata": {
    "slideshow": {
     "slide_type": "slide"
    }
   },
   "source": [
    "### <center> Funções </center>\n",
    "\n",
    "# Visualização e execução de programas\n",
    "\n",
    "\n",
    "- [http://pythontutor.com/visualize.html#mode=edit](http://pythontutor.com/visualize.html#mode=edit)\n",
    "- IDEs como o **Visual Studio Code**, PyCharm e WingIDE\n",
    "\n",
    "\n",
    "\n",
    "<center><img src=\"imgs/IDEs.png\" width=\"80%\"></center>\n"
   ]
  },
  {
   "cell_type": "markdown",
   "metadata": {
    "slideshow": {
     "slide_type": "slide"
    }
   },
   "source": [
    "# <center> A treinar mais!!!!</center>\n"
   ]
  },
  {
   "cell_type": "markdown",
   "metadata": {
    "slideshow": {
     "slide_type": "slide"
    }
   },
   "source": [
    "### <center> Funções </center>\n",
    "\n",
    "\n",
    "# Exemplo 4, Máximo divisor comum (Algoritmo de Euclides)\n",
    "\n",
    "1. O máximo divisor comum entre um número e zero é o próprio número: \n",
    "```mdc(m,0) = m```\n",
    "2. Quando dividimos um número *m* por *n*, o máximo divisor comum entre o resto da divisão e o divisor é o mesmo que o máximo divisor comum entre o dividendo e o divisor: ```mdc(m, n) = mdc(n, m%n)```\n",
    "\n",
    "\n",
    "- Exemplo algorimo para mdc(24, 16):\n",
    "\n",
    "<center><img src=\"imgs/euclides.png\" width=\"20%\"></center>"
   ]
  },
  {
   "cell_type": "markdown",
   "metadata": {
    "slideshow": {
     "slide_type": "slide"
    }
   },
   "source": [
    "### <center> Funções </center>\n",
    "\n",
    "\n",
    "# Exemplo 4, Máximo divisor comum (Algoritmo de Euclides)\n",
    "\n",
    "<!--\n",
    "\n",
    "# Máximo divisor comum (mdc)\n",
    "# Euclidian algorithm \n",
    "\n",
    "def mdc(m, n):\n",
    "    \n",
    "    if n < 0 or m < 0:\n",
    "        raise ValueError('euclides: argumentos negativos!')\n",
    "    \n",
    "    while n > 0:\n",
    "        m, n = n, m%n\n",
    "    \n",
    "    return m\n",
    "\n",
    "x = eval(input(\"Da-me valor x:\"))\n",
    "y = eval(input(\"Da-me valor y:\"))\n",
    "print(mdc(x, y))\n",
    "\n",
    "-->\n"
   ]
  },
  {
   "cell_type": "code",
   "execution_count": 22,
   "metadata": {
    "slideshow": {
     "slide_type": "-"
    }
   },
   "outputs": [
    {
     "name": "stdout",
     "output_type": "stream",
     "text": [
      "Da-me valor x:16\n",
      "Da-me valor y:24\n",
      "8\n"
     ]
    }
   ],
   "source": [
    "# Máximo divisor comum (mdc)\n",
    "# Euclidian algorithm \n",
    "\n",
    "def mdc(m, n): \n",
    "    pass\n",
    "\n",
    "x = eval(input(\"Da-me valor x:\"))\n",
    "y = eval(input(\"Da-me valor y:\"))\n",
    "print(mdc(x, y))\n"
   ]
  },
  {
   "cell_type": "markdown",
   "metadata": {
    "slideshow": {
     "slide_type": "slide"
    }
   },
   "source": [
    "### <center> Funções </center>\n",
    "\n",
    "\n",
    "# Exemplo 5, Raiz quadrada (Algoritmo da Babilónia)\n",
    "\n",
    "- Em cada iteração, partindo do valor aproximado, $p_i$, para a raiz quadrada de $x$, podemos calcular uma aproximação ao melhor, $p_{i+1}$, através da seguinte fórmula:\n",
    "\n",
    "\\begin{eqnarray*}\n",
    "p_{i+1} = \\frac{p_i + \\frac{x}{p_i}}{2}.\n",
    "\\end{eqnarray*}\n",
    "\n",
    "- Exemplo algoritmo para $\\sqrt 2 $\n",
    "\n",
    "\n",
    "<!--\n",
    "<img src=\"imgs/babilonia.png\" width=\"75%\" align=\"left\">\n",
    "-->\n",
    "\n",
    "\n",
    "<center><img src=\"imgs/babilonia_table.png\" width=\"40%\"></center>"
   ]
  },
  {
   "cell_type": "markdown",
   "metadata": {
    "slideshow": {
     "slide_type": "slide"
    }
   },
   "source": [
    "### <center> Funções </center>\n",
    "\n",
    "\n",
    "# Exemplo 5, Raiz quadrada (Algoritmo da Babilónia)\n",
    "\n",
    "```python\n",
    "def calcula_raiz(x, palpite):\n",
    "    while not bom_palpite(x, palpite):\n",
    "        palpite = novo_palpite(x, palpite)      \n",
    "    return palpite\n",
    "```\n",
    "```python\n",
    "def raiz(x):\n",
    "    if x < 0:\n",
    "        raise ValueError(\"raiz definida só para números positivos\")\n",
    "    return calcula_raiz(x, 1)\n",
    "```\n",
    "\n",
    "- **Exercício**: Definir as funções *bom_palpite* e *novo_palpite*\n",
    "\n",
    "<!-- \n",
    "def bom_palpite(x, palpite):\n",
    "    \n",
    "    return abs(x - palpite*palpite) < 0.000000000001\n",
    "\n",
    "def novo_palpite(x, palpite):\n",
    "    return (palpite + x/palpite)/2\n",
    "-->"
   ]
  },
  {
   "cell_type": "code",
   "execution_count": 26,
   "metadata": {},
   "outputs": [
    {
     "name": "stdout",
     "output_type": "stream",
     "text": [
      "Aprox  1.414213562373095\n",
      "Exacto 1.4142135623730951\n"
     ]
    }
   ],
   "source": [
    "def calcula_raiz(x, palpite):\n",
    "    while not bom_palpite(x, palpite):\n",
    "        palpite = novo_palpite(x, palpite)      \n",
    "    return palpite\n",
    "def raiz(x):\n",
    "    if x < 0:\n",
    "        raise ValueError(\"raiz definida só para números positivos\")\n",
    "    return calcula_raiz(x, 1)\n",
    "\n",
    "def bom_palpite(x, palpite):\n",
    "    pass\n",
    "\n",
    "def novo_palpite(x, palpite):\n",
    "    pass\n",
    "\n",
    "import math\n",
    "\n",
    "x = 2\n",
    "print(\"Aprox \",raiz(x))\n",
    "print(\"Exacto\",math.sqrt(x))"
   ]
  },
  {
   "cell_type": "markdown",
   "metadata": {
    "slideshow": {
     "slide_type": "slide"
    }
   },
   "source": [
    "### <center> Funções </center>\n",
    "\n",
    "\n",
    "# Exemplo 6, Séries de Taylor\n",
    "\n",
    "- Definição:\n",
    "\n",
    "\\begin{eqnarray*}\n",
    "f(x) &=& \\sum_{n=0}^{\\infty} \\frac{f^{(n)}(a)}{n!} (x-a)^{n} = f(a)+\\frac{f'(a)}{1!}(x-a)+\\frac{f''(a)}{2!}(x-a)^2+\\frac{f^{(3)}(a)}{3!}(x-a)^3+\\cdots\n",
    "\\end{eqnarray*}\n",
    "\n",
    "\n",
    "- Exemplos dalgumas aproximações:\n",
    "\n",
    "\\begin{eqnarray*}\n",
    "e^{x} &=& \\sum^{\\infty}_{n=0} \\frac{x^n}{n!} = 1 + x + \\frac{x^2}{2!} + \\frac{x^3}{3!} + \\cdots \\\\\n",
    "\\sin(x) &=& \\sum^{\\infty}_{n=0} \\frac{(-1)^n}{(2n+1)!} x^{2n+1}\\quad =  x - \\frac{x^3}{3!} + \\frac{x^5}{5!} - \\cdots \\\\\n",
    "\\cos(x) &=& \\sum^{\\infty}_{n=0} \\frac{(-1)^n}{(2n)!} x^{2n}\\quad =  1 - \\frac{x^2}{2!} + \\frac{x^4}{4!} - \\cdots\n",
    "\\end{eqnarray*}\n"
   ]
  },
  {
   "cell_type": "markdown",
   "metadata": {
    "slideshow": {
     "slide_type": "slide"
    }
   },
   "source": [
    "### <center> Funções </center>\n",
    "\n",
    "\n",
    "# Exemplo 6, Séries de Taylor\n",
    "\n",
    "```python\n",
    "def proximo_termo(x, n):\n",
    "    pass #completar (diferente dependendo da função a aproximar)  \n",
    "```\n",
    "```python\n",
    "def funcao_aproximada(x, delta):\n",
    "    n = 0\n",
    "    termo = proximo_termo(x, n)\n",
    "    resultado = termo  \n",
    "    while abs(termo) > delta:\n",
    "        n = n + 1\n",
    "        termo = proximo_termo(x, n)\n",
    "        resultado = resultado + termo\n",
    "    return resultado\n",
    "```\n",
    "\n",
    "- **Exercício:** Definir a série de Taylor para as funçoes *e(x)*, *sin(x)* e *cos(x)*\n",
    "- **Exercício:** Alterar para que o cômputo de termo seja função do anterior termo, `termo = proximo_termo(x, n, termo)`"
   ]
  },
  {
   "cell_type": "markdown",
   "metadata": {
    "slideshow": {
     "slide_type": "slide"
    }
   },
   "source": [
    "### <center> Funções </center>\n",
    "\n",
    "\n",
    "# Exemplo 6, Séries de Taylor: Exponencial\n",
    "\n",
    "<!--\n",
    "def exp_aproximada(x, delta):\n",
    "    def proximo_termo(x, n):\n",
    "        return x**n/factorial(n)\n",
    "    \n",
    "    n = 0\n",
    "    termo = proximo_termo(x, n)\n",
    "    resultado = termo\n",
    "    \n",
    "    while termo > delta:\n",
    "        n = n + 1\n",
    "        termo = proximo_termo(x, n)\n",
    "        resultado = resultado + termo\n",
    "\n",
    "    return resultado\n",
    "-->"
   ]
  },
  {
   "cell_type": "code",
   "execution_count": 13,
   "metadata": {},
   "outputs": [
    {
     "name": "stdout",
     "output_type": "stream",
     "text": [
      "Aprox  1.0\n",
      "Exacto 1.0\n"
     ]
    }
   ],
   "source": [
    "\n",
    "\n",
    "def proximo_termo(x, n):\n",
    "    pass\n",
    "    \n",
    "    \n",
    "def exp_aproximada(x, delta):    \n",
    "    n = 0\n",
    "    termo = proximo_termo(x, n)\n",
    "    resultado = termo\n",
    "    \n",
    "    while abs(termo) > delta:\n",
    "        n = n + 1\n",
    "        termo = proximo_termo(x, n)\n",
    "        resultado = resultado + termo\n",
    "\n",
    "    return resultado\n",
    "\n",
    "import math\n",
    "\n",
    "print(\"Aprox \",exp_aproximada(0,0.01))\n",
    "print(\"Exacto\",math.exp(0))\n",
    "\n"
   ]
  },
  {
   "cell_type": "markdown",
   "metadata": {
    "slideshow": {
     "slide_type": "slide"
    }
   },
   "source": [
    "### <center> Funções </center>\n",
    "\n",
    "\n",
    "# Exemplo 6, Séries de Taylor: Seno\n",
    "\n",
    "<!--\n",
    "def sin_aproximada(x, delta):\n",
    "    def factorial(n):\n",
    "        prod = 1\n",
    "        while n > 0:\n",
    "            prod = prod*n\n",
    "            n = n -1\n",
    "        return prod\n",
    "    \n",
    "    def proximo_termo(x, n):\n",
    "        return (-1)**n*x**(2*n+1)/factorial(2*n+1)\n",
    "    \n",
    "    n = 0\n",
    "    termo = proximo_termo(x, n)\n",
    "    resultado = termo\n",
    "    \n",
    "    while termo > delta:\n",
    "        n = n + 1\n",
    "        termo = proximo_termo(x, n)\n",
    "        resultado = resultado + termo\n",
    "\n",
    "    return resultado\n",
    "-->"
   ]
  },
  {
   "cell_type": "code",
   "execution_count": 16,
   "metadata": {},
   "outputs": [
    {
     "name": "stdout",
     "output_type": "stream",
     "text": [
      "Aprox 0.999999943741051\n",
      "Exacto 1.0\n"
     ]
    }
   ],
   "source": [
    "\n",
    "def proximo_termo(x, n):\n",
    "    pass\n",
    "\n",
    "def sin_aproximada(x, delta):\n",
    "    \n",
    "    n = 0\n",
    "    termo = proximo_termo(x, n)\n",
    "    resultado = termo\n",
    "    \n",
    "    while abs(termo) > delta:\n",
    "        n = n + 1\n",
    "        termo = proximo_termo(x, n)\n",
    "        resultado = resultado + termo\n",
    "\n",
    "    return resultado\n",
    "\n",
    "import math\n",
    "\n",
    "print(\"Aprox\",sin_aproximada(math.pi/2,0.0001))\n",
    "print(\"Exacto\",math.sin(math.pi/2))\n",
    "\n"
   ]
  },
  {
   "cell_type": "markdown",
   "metadata": {
    "slideshow": {
     "slide_type": "slide"
    }
   },
   "source": [
    "### <center> Funções </center>\n",
    "\n",
    "\n",
    "# Exemplo 6, Séries de Taylor: Cosseno\n",
    "\n",
    "<!--\n",
    "def cos_aproximada(x, delta):\n",
    "    def factorial(n):\n",
    "        prod = 1\n",
    "        while n > 0:\n",
    "            prod = prod*n\n",
    "            n = n -1\n",
    "        return prod\n",
    "    \n",
    "    def proximo_termo(x, n):\n",
    "        return (-1)**n*x**(2*n)/factorial(2*n)\n",
    "    \n",
    "    n = 0\n",
    "    termo = proximo_termo(x, n)\n",
    "    resultado = termo\n",
    "    \n",
    "    while termo > delta:\n",
    "        n = n + 1\n",
    "        termo = proximo_termo(x, n)\n",
    "        resultado = resultado + termo\n",
    "\n",
    "    return resultado\n",
    "-->"
   ]
  },
  {
   "cell_type": "code",
   "execution_count": 8,
   "metadata": {},
   "outputs": [
    {
     "name": "stdout",
     "output_type": "stream",
     "text": [
      "Aprox 0.8660252641005711\n",
      "Exacto 0.8660254037844387\n"
     ]
    }
   ],
   "source": [
    "def proximo_termo(x, n):\n",
    "    pass\n",
    "    \n",
    "def cos_aproximada(x, delta):   \n",
    "    n = 0\n",
    "    termo = proximo_termo(x, n)\n",
    "    resultado = termo\n",
    "    \n",
    "    while abs(termo) > delta:\n",
    "        n = n + 1\n",
    "        termo = proximo_termo(x, n)\n",
    "        resultado = resultado + termo\n",
    "\n",
    "    return resultado\n",
    "\n",
    "import math\n",
    "\n",
    "print(\"Aprox\",cos_aproximada(math.pi/6,0.0001))\n",
    "print(\"Exacto\",math.cos(math.pi/6))\n",
    "\n"
   ]
  },
  {
   "cell_type": "markdown",
   "metadata": {
    "slideshow": {
     "slide_type": "slide"
    }
   },
   "source": [
    "## <center>Funções - Tarefas para a próxima semana</center>\n",
    "\n",
    "<br>\n",
    "\n",
    "\n",
    "- Trabalhar matéria apresentada até hoje --> Fazer todos os programas!\n",
    "- Ler capítulo 4 do livro da UC: Tuplos, ciclos contados e cadeias de carateres\n",
    "- Na próxima **aula laboratorial (L05)**: \n",
    "    - Ficha F2 - Elementos básicos de programação\n",
    "    - L05: Funções, verificação de argumentos, exepções\n",
    "\n",
    "<br>\n",
    "\n",
    "<center><img src=\"imgs/practice_book.png\" width=\"80%\"></center>\n",
    "\n",
    "\n"
   ]
  }
 ],
 "metadata": {
  "celltoolbar": "Slideshow",
  "kernelspec": {
   "display_name": "Python 3 (ipykernel)",
   "language": "python",
   "name": "python3"
  },
  "language_info": {
   "codemirror_mode": {
    "name": "ipython",
    "version": 3
   },
   "file_extension": ".py",
   "mimetype": "text/x-python",
   "name": "python",
   "nbconvert_exporter": "python",
   "pygments_lexer": "ipython3",
   "version": "3.9.6"
  }
 },
 "nbformat": 4,
 "nbformat_minor": 2
}
