{
 "cells": [
  {
   "cell_type": "markdown",
   "metadata": {
    "slideshow": {
     "slide_type": "slide"
    }
   },
   "source": [
    "# <center>Fundamentos da Programação</center>\n",
    "\n",
    "<br>\n",
    "<br>\n",
    "\n",
    "## <center>Aula 8</center>\n",
    "#### <center> Funções </center>\n",
    "\n",
    "<center>  Definição de funções. Aplicação de funções. Abstração procedimental. </center>\n",
    "\n",
    "\n",
    "<br>\n",
    "<br>\n",
    "\n",
    "\n",
    "#### <center>Alberto Abad, IST, 2024-25</center>"
   ]
  },
  {
   "cell_type": "markdown",
   "metadata": {
    "slideshow": {
     "slide_type": "slide"
    }
   },
   "source": [
    "### <center>Até agora aprendemos... </center>\n",
    "\n",
    "\n",
    "- O que é e quais são as fases da atividade de programação?\n",
    "- A descrever sintaxe de uma linguagem de programação --> **BNF**\n",
    "- Sobre o Python e como interagir com ele: interpretador vs. script \n",
    "- Alguns elementos básicos de programação:\n",
    "    - Tipos, nomes, expressões, condições, entrada/saída, funções embebidas, etc.\n",
    "- Sobre execução sequencial e sobre instruções para alterar o fluxo de execução:\n",
    "    - Seleção --> **IF**\n",
    "    - Repetição --> **WHILE**"
   ]
  },
  {
   "cell_type": "markdown",
   "metadata": {
    "slideshow": {
     "slide_type": "slide"
    }
   },
   "source": [
    "### <center>Funções </center>\n",
    "\n",
    "# Funções\n",
    "\n",
    "- Conjunto pares ordenado entrada (domínio) e saída (contra-domínio)\n",
    "\n",
    "    - Definição por extensão ou por abstração\n",
    "    - Como utilizar funções? Definição e aplicação:\n",
    "\n",
    "    ```\n",
    "    f(x, y) = x + y   Definições equivalentes?\n",
    "    f(3,5) = 8        Aplicação!\n",
    "    ```\n",
    "\n",
    "- Igual que na Matemática, a utilização de funções em programação compreende a **definição** da função (nome, argumentos e algoritmo) e **aplicação de função** (execução do algoritmo sobre valores passados como argumentos). \n",
    "\n",
    "- Exemplo funções Python já conhecidas: `print(...)`, `input(...)`, `eval(...)`"
   ]
  },
  {
   "cell_type": "markdown",
   "metadata": {
    "slideshow": {
     "slide_type": "slide"
    }
   },
   "source": [
    "### <center>Funções </center>\n",
    "\n",
    "# Definição de Funções (BNF)\n",
    "\n",
    "\n",
    "\n",
    "<img src=\"imgs/def_funcoes_bnf.png\" width=\"75%\" align=\"left\">\n",
    "\n",
    "\n",
    "<!--\n",
    "```<definição de função> ::=\n",
    "    def <nome> (<parâmetros formais>): NEWLINE\n",
    "    INDENT <corpo> DEDENT```\n",
    "\n",
    "```<parâmetros formais> ::= <nada> | <nomes>```\n",
    "\n",
    "```<nomes> ::= <nome> | <nome>, <nomes>```\n",
    "\n",
    "```<nada> ::=```\n",
    "\n",
    "\n",
    "```<corpo> ::= <definição de função>* <instruções em função>```\n",
    "\n",
    "```<instruções em função> ::=\n",
    "    <instrução em função> NEWLINE |\n",
    "    <instrução em função> NEWLINE <instruções em função>```\n",
    "    \n",
    "```<instrução em função> ::= <instrução> | <expressão> | <instrução return>```\n",
    "\n",
    "```<instrução return> ::= return | return <expressão>```\n",
    "-->\n",
    "\n",
    "\n"
   ]
  },
  {
   "cell_type": "markdown",
   "metadata": {
    "slideshow": {
     "slide_type": "slide"
    }
   },
   "source": [
    "### <center>Funções </center>\n",
    "\n",
    "# Aplicação Funções (BNF)\n",
    "\n",
    "\n",
    "<br>\n",
    "<br>\n",
    "\n",
    "```\n",
    "<aplicação de função> ::= <nome>(<parâmetros concretos>)\n",
    "```\n",
    "\n",
    "\n",
    "```\n",
    "    <parâmetros concretos> ::= <nada> | <expressões>\n",
    "```\n",
    "\n",
    "\n",
    "```\n",
    "    <expressões> ::= <expressão> |\n",
    "                 <expressão>, <expressões>\n",
    "```\n",
    "                 \n",
    "\n",
    "<br>\n",
    "<br>\n",
    "\n",
    "<br>\n",
    "<br>"
   ]
  },
  {
   "cell_type": "markdown",
   "metadata": {
    "slideshow": {
     "slide_type": "slide"
    }
   },
   "source": [
    "### <center>Funções </center>\n",
    "\n",
    "# Definição e Aplicação de Funções, Exemplo 1:\n",
    "\n",
    "```python\n",
    "def soma(a,b):\n",
    "    return a + b\n",
    "```\n",
    "    \n",
    "## Exemplos:\n",
    "\n",
    "- Aplicação antes e após definição.\n",
    "- Aplicação: `soma(2)`, `soma(2,5`, `soma(7,5)`, `soma(3*2, 6+4)`, `soma`\n",
    "\n",
    "- O que acontece se:\n",
    "```python\n",
    "x, y = 2, 5\n",
    "print(\"x =\",x, \"y =\",y, \"soma(x,y) =\",soma(x,y))\n",
    "```\n",
    "- O que acontece se:\n",
    "```python\n",
    "a, b = 2, 5\n",
    "print(\"soma(a,b) =\", soma(a,b))\n",
    "print(\"soma(b,a) = \", soma(b,a))\n",
    "print(\"a =\",a,\"b =\",b)\n",
    "```"
   ]
  },
  {
   "cell_type": "code",
   "execution_count": null,
   "metadata": {
    "slideshow": {
     "slide_type": "-"
    }
   },
   "outputs": [],
   "source": []
  },
  {
   "cell_type": "markdown",
   "metadata": {
    "slideshow": {
     "slide_type": "slide"
    }
   },
   "source": [
    "### <center>Funções </center>\n",
    "\n",
    "# Definição de Aplicação Funções, Exemplo 2:\n",
    "\n",
    "\n",
    "<!--\n",
    "```python\n",
    "def soma_progressao_aritmetica(n):\n",
    "    iter = 1\n",
    "    soma = 0\n",
    "    while iter <= n:\n",
    "        soma = soma + iter\n",
    "        iter = iter + 1\n",
    "    return soma\n",
    "```\n",
    "\n",
    "-->\n",
    "```python\n",
    "def soma_progressao_aritmetica(n):\n",
    "    soma = 0\n",
    "    pass # complete\n",
    "```\n",
    "- Aplicação:\n",
    "```python\n",
    "soma = 4 + 6\n",
    "print(soma_progressao_aritmetica(100), soma)\n",
    "```\n",
    "- Que acontece com a variável *soma*!?!?\n",
    "\n",
    "- Conseguem pensar numa solução não iterativa?\n",
    "\n",
    "<!--\n",
    "def soma(n):\n",
    "    if n < 1:\n",
    "        return 0\n",
    "    return n*(n+1)//2\n",
    "\n",
    "soma(5)\n",
    "soma(7)\n",
    "-->"
   ]
  },
  {
   "cell_type": "code",
   "execution_count": 27,
   "metadata": {
    "slideshow": {
     "slide_type": "-"
    }
   },
   "outputs": [
    {
     "name": "stdout",
     "output_type": "stream",
     "text": [
      "55\n"
     ]
    }
   ],
   "source": [
    "n = 100\n",
    "def soma_progressao_aritmetica(n):\n",
    "    soma = 0\n",
    "    pass\n",
    "\n",
    "\n",
    "res = soma_progressao_aritmetica(n)\n",
    "print(res)"
   ]
  },
  {
   "cell_type": "markdown",
   "metadata": {
    "slideshow": {
     "slide_type": "slide"
    }
   },
   "source": [
    "### <center>Funções </center>\n",
    "\n",
    "# Ambientes e quadros (*frames*)\n",
    "\n",
    "- Ambientes: Global vs. Local\n",
    "\n",
    "- Passos seguidos pelo Python quando uma função é invocada:\n",
    "\n",
    "    - Os parâmetros concretos são avaliados (ordem arbitrária)\n",
    "\n",
    "    - Os parâmetros formais da função são associados com os valores concretos no ambiente local (em ordem)\n",
    "\n",
    "    - O corpo da função é executado no ambiente local (os ambientes locais existem só até a função terminar) e o valor de _return_ é retornado ao ambiente global\n",
    "\n"
   ]
  },
  {
   "cell_type": "markdown",
   "metadata": {
    "slideshow": {
     "slide_type": "slide"
    }
   },
   "source": [
    "### <center>Funções </center>\n",
    "\n",
    "# Ambientes e quadros (*frames*)\n",
    "\n",
    "<br/>\n",
    "\n",
    "<center><img src=\"imgs/ambientes.png\" width=\"40%\"></center>\n",
    "\n",
    "- Gostavam ver? \n",
    "http://pythontutor.com/visualize.html\n"
   ]
  },
  {
   "cell_type": "markdown",
   "metadata": {
    "slideshow": {
     "slide_type": "slide"
    }
   },
   "source": [
    "### <center> Funções </center>\n",
    "\n",
    "# Abstração procedimental\n",
    "\n",
    "- As funções permitem aos programadores pensar no **que** (faz a função) e não no  **como** (a função é implementada).\n",
    "\n",
    "## Exemplo #1\n",
    "\n",
    "```python\n",
    "def soma_prog_arit(n):\n",
    "    iter = 1\n",
    "    soma = 0\n",
    "    while iter <= n:\n",
    "        soma = soma + iter\n",
    "        iter = iter + 1\n",
    "    return soma\n",
    "```    \n",
    "   \n",
    "```python\n",
    "def soma_prog_arit(n):\n",
    "    if n < 1:\n",
    "        return 0\n",
    "    else:\n",
    "        return n*(n+1)//2\n",
    "```"
   ]
  },
  {
   "cell_type": "markdown",
   "metadata": {
    "slideshow": {
     "slide_type": "slide"
    }
   },
   "source": [
    "### <center> Funções </center>\n",
    "\n",
    "# Abstração procedimental\n",
    "\n",
    "- As funções permitem aos programadores pensar no **que** (faz a função) e não no  **como** (a função é implementada).\n",
    "\n",
    "## Exemplo #2\n",
    "\n",
    "```python\n",
    "def quadrado(x):\n",
    "    return x * x\n",
    "```    \n",
    "   \n",
    "```python\n",
    "def quadrado(n):\n",
    "    pass # complete\n",
    "```"
   ]
  },
  {
   "cell_type": "code",
   "execution_count": null,
   "metadata": {},
   "outputs": [],
   "source": [
    "def quadrado_v1(x):\n",
    "    return x * x\n",
    "\n",
    "def quadrado_v2(x): # **\n",
    "    pass\n",
    "\n",
    "def quadrado_v3(x): # pow\n",
    "    pass\n",
    "\n",
    "def quadrado_v4(x): # iter\n",
    "    pass\n",
    "    \n",
    "\n",
    "print(quadrado_v1(9), quadrado_v2(9), quadrado_v3(9), quadrado_v4(9))\n",
    "    \n",
    "\n",
    "    \n",
    "    "
   ]
  },
  {
   "cell_type": "markdown",
   "metadata": {
    "slideshow": {
     "slide_type": "slide"
    }
   },
   "source": [
    "# <center> A treinar!!!!</center>\n"
   ]
  },
  {
   "cell_type": "markdown",
   "metadata": {
    "slideshow": {
     "slide_type": "slide"
    }
   },
   "source": [
    "### <center> Funções </center>\n",
    "\n",
    "\n",
    "# Exemplo 1, Tabela conversão temperaturas\n",
    "- Escreva uma função que converta temperaturas de Fahrenheit para Celsius $C = 5*(F-32)/9$\n",
    "- Escreva uma função que recebe uma temperatura mínima e máxima (inteiros) em Fahrenheit e imprime a tabela de conversão para Celsius\n",
    "\n",
    "<!--\n",
    "def far_para_cent(F):\n",
    "    return round(5 * (F - 32) / 9)\n",
    "\n",
    "min = eval(input(’Qual a temperatura minima?\\n? ’)) \n",
    "max = eval(input(’Qual a temperatura maxima?\\n? ’))\n",
    "\n",
    "while min <= max:\n",
    "    print(min, ’=’, far_para_cent(min))\n",
    "    min = min + 1\n",
    "-->"
   ]
  },
  {
   "cell_type": "code",
   "execution_count": null,
   "metadata": {},
   "outputs": [],
   "source": [
    "def fahr_para_cent(fahr):\n",
    "    pass\n",
    "    \n",
    "def tabela(min_f, max_f):\n",
    "    pass\n",
    "    \n",
    "tabela(40, 50)\n"
   ]
  },
  {
   "cell_type": "markdown",
   "metadata": {
    "slideshow": {
     "slide_type": "slide"
    }
   },
   "source": [
    "### <center> Funções </center>\n",
    "\n",
    "\n",
    "# Exemplo 2, Potência de dois números inteiros\n",
    "\n",
    "\n",
    "<!-- \n",
    "# Power of two numbers inteiros\n",
    "def potencia(x, k):\n",
    "    if k < 0:\n",
    "        raise ValueError('potencia: exponente k negativo')\n",
    "    elif type(k) != int:\n",
    "        raise ValueError('potencia: exponente k nao inteiro')\n",
    "    elif type(x) != int:\n",
    "        raise ValueError('potencia: exponente x nao é um inteiro')\n",
    "\n",
    "    product = 1\n",
    "    \n",
    "    while k > 0:\n",
    "        product = product*x\n",
    "        k = k - 1\n",
    "        \n",
    "    return product\n",
    "   \n",
    "print(potencia(3, 4))\n",
    "\n",
    "-->\n"
   ]
  },
  {
   "cell_type": "markdown",
   "metadata": {},
   "source": [
    "- Solução iterativa para `k` positivos\n",
    "- E para `k` negativos?\n",
    "- E para qualquer `k`?"
   ]
  },
  {
   "cell_type": "code",
   "execution_count": null,
   "metadata": {
    "slideshow": {
     "slide_type": "-"
    }
   },
   "outputs": [],
   "source": [
    "def potencia(x, n):\n",
    "    pass\n",
    "\n",
    "# Power of two numbers inteiros\n",
    "x = eval(input(\"Escreva a base da potencia: \"))\n",
    "n = eval(input(\"Escreva a potencia: \"))\n",
    "\n",
    "\n",
    "print(potencia(x, n))"
   ]
  },
  {
   "cell_type": "markdown",
   "metadata": {
    "slideshow": {
     "slide_type": "slide"
    }
   },
   "source": [
    "### <center> Funções </center>\n",
    "\n",
    "\n",
    "# Exemplo 3, Factorial\n",
    "- Para números inteiros não negativos (`fact(0) = 1`) iterativo\n",
    "\n",
    "<!--\n",
    "\n",
    "# factorial\n",
    "def factorial(n):\n",
    "    if type(n) != int:\n",
    "        raise ValueError(\"Não inteiro!\")\n",
    "    elif n < 0:\n",
    "        raise ValueError(\"Negativo!\")\n",
    "    \n",
    "    f, i = 1, 1\n",
    "    while i <= n:\n",
    "        f = f * i\n",
    "        i = i + 1\n",
    "    return f\n",
    "\n",
    "    # Alternativa\n",
    "    # f = 1\n",
    "    # while n > 0:\n",
    "    #     f = f * n\n",
    "    #     n = n - 1\n",
    "    # return f\n",
    "\n",
    "x = eval(input(\"Inteiro: \"))\n",
    "f = factorial(x)\n",
    "print(f)\n",
    "    \n",
    "-->"
   ]
  },
  {
   "cell_type": "code",
   "execution_count": null,
   "metadata": {
    "slideshow": {
     "slide_type": "-"
    }
   },
   "outputs": [],
   "source": [
    "def factorial(x):\n",
    "    pass\n",
    "\n",
    "\n",
    "x = eval(input('Inteiro: '))\n",
    "f = factorial(x)\n",
    "print(f)\n"
   ]
  },
  {
   "cell_type": "markdown",
   "metadata": {
    "slideshow": {
     "slide_type": "slide"
    }
   },
   "source": [
    "## <center>Funções - Tarefas próxima aula</center>\n",
    "\n",
    "<br>\n",
    "\n",
    "\n",
    "- Trabalhar matéria apresentada hoje\n",
    "- Fazer todos os exercícios/programas \n",
    "\n",
    "<br>\n",
    "\n",
    "<center><img src=\"imgs/practice_book.png\" width=\"80%\"></center>\n",
    "\n",
    "\n"
   ]
  }
 ],
 "metadata": {
  "celltoolbar": "Slideshow",
  "kernelspec": {
   "display_name": "Python 3 (ipykernel)",
   "language": "python",
   "name": "python3"
  },
  "language_info": {
   "codemirror_mode": {
    "name": "ipython",
    "version": 3
   },
   "file_extension": ".py",
   "mimetype": "text/x-python",
   "name": "python",
   "nbconvert_exporter": "python",
   "pygments_lexer": "ipython3",
   "version": "3.9.6"
  }
 },
 "nbformat": 4,
 "nbformat_minor": 2
}
