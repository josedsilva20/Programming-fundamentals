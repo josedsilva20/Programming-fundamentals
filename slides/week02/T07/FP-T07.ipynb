{
 "cells": [
  {
   "cell_type": "markdown",
   "metadata": {
    "slideshow": {
     "slide_type": "slide"
    }
   },
   "source": [
    "# <center>Fundamentos da Progamação </center>\n",
    "\n",
    "<br>\n",
    "<br>\n",
    "\n",
    "## <center>Aula 7</center>\n",
    "### <center>Elementos básicos de programação</center> \n",
    "\n",
    "##### <center>Repetição. Programas simples.</center>\n",
    "\n",
    "\n",
    "<br>\n",
    "<br>\n",
    "\n",
    "\n",
    "\n",
    "#### <center>Alberto Abad, IST, 2024-25</center>\n"
   ]
  },
  {
   "cell_type": "markdown",
   "metadata": {
    "slideshow": {
     "slide_type": "slide"
    }
   },
   "source": [
    "## <center>Interpretador de Python</center>\n",
    "\n",
    "<br>\n",
    "\n",
    "###  Modo programa (*script*)\n",
    "\n",
    "```bash\n",
    "alberto@macal ~ $ echo \"print('Hello world')\" > script.py\n",
    "alberto@macal ~ $ python script.py\n",
    "Hello world\n",
    "```\n",
    "\n",
    "\n",
    "<br>\n",
    "<br>\n",
    "<br>\n",
    "<br>\n",
    "<br>\n"
   ]
  },
  {
   "cell_type": "markdown",
   "metadata": {
    "slideshow": {
     "slide_type": "slide"
    }
   },
   "source": [
    "### <center>Elementos básicos de programação - Programas </center>\n",
    "\n",
    "## Programas\n",
    "\n",
    "- Sequência de instruções/expressões num *script*:\n",
    "\n",
    "```<programa> ::= <definições>* <instruções ou expressões>```\n",
    "\n",
    "<p><span style=\"color:red\">(Definições na próxima semana)</span></p>\n",
    "\n",
    "\n",
    "- Instruções/expressões em \"linhas\" diferentes do script separadas pela tecla *RETURN*:\n",
    "\n",
    "`<instruções ou expressões> :== <instrução> NEWLINE |\n",
    "                                <expressão> NEWLINE |\n",
    "                                <instrução> NEWLINE <instruções ou expressões> |\n",
    "                                <expressão> NEWLINE <instruções ou expressões>`\n",
    "\n",
    "- Instrução vazia:\n",
    "\n",
    "\n",
    "`<instrução vazia> :==  `\n",
    "\n",
    "\n"
   ]
  },
  {
   "cell_type": "markdown",
   "metadata": {
    "slideshow": {
     "slide_type": "slide"
    }
   },
   "source": [
    "### <center>Elementos básicos de programação - Estruturas de controlo </center>\n",
    "\n",
    "<br/>\n",
    "\n",
    "## Sequênciação\n",
    "\n",
    "\n",
    "<center><img src=\"imgs/seq_flow.png\" width=\"20%\"></center>\n",
    "\n",
    "\n",
    "- Outras estrutas de controlo: **Seleção** e **Repetição**\n",
    "\n",
    "\n",
    "\n",
    "\n",
    "\n"
   ]
  },
  {
   "cell_type": "markdown",
   "metadata": {
    "slideshow": {
     "slide_type": "slide"
    }
   },
   "source": [
    "### <center>Elementos básicos de programação - Repetição/*while* </center>\n",
    "\n",
    "# Repetição (*while*) BNF\n",
    "\n",
    "- Repetição enquanto a condição for verdadeira\n",
    "    \n",
    "`<instrução while> ::= while <condição>: NEWLINE\n",
    "                           <bloco de instruções>`                         \n",
    "<br>\n",
    "    \n",
    "- Existem outras intruções de repetição como o ```for``` (próximas semanas)\n",
    "<br>\n",
    "\n",
    "- Forçar interrupção do ciclo:\n",
    "\n",
    "```<instrução break > ::= break```\n"
   ]
  },
  {
   "cell_type": "markdown",
   "metadata": {
    "slideshow": {
     "slide_type": "slide"
    }
   },
   "source": [
    "### <center>Elementos básicos de programação - Repetição/*while* </center>\n",
    "\n",
    "# Fluxograma\n",
    "\n",
    "<center><img src=\"imgs/while_flow.png\" width=\"30%\"></center>"
   ]
  },
  {
   "cell_type": "markdown",
   "metadata": {
    "slideshow": {
     "slide_type": "slide"
    }
   },
   "source": [
    "### <center>Elementos básicos de programação - Repetição/*while* </center>\n",
    "# Example *while* #1: Soma números \n",
    "\n",
    "<!-- soma = 0\n",
    "x = eval(input('Introduza um número (negativo para terminar): '))\n",
    "\n",
    "while x > 0:\n",
    "    soma = soma + x\n",
    "    x = eval(input('Introduza um número (negativo para terminar): '))\n",
    "\n",
    "print('Soma total:', soma)\n",
    "-->"
   ]
  },
  {
   "cell_type": "code",
   "execution_count": 45,
   "metadata": {},
   "outputs": [
    {
     "name": "stdout",
     "output_type": "stream",
     "text": [
      "0\n",
      "dentro do 2o while\n",
      "1\n",
      "dentro do 2o while\n",
      "2\n",
      "dentro do 2o while\n"
     ]
    }
   ],
   "source": [
    "\n",
    "# Isto é um exemplo de while\n",
    "num = int(input('Introduza um número (negativo para terminar):'))\n",
    "\n",
    "# COMPLETAR\n",
    "# COMPLETAR\n",
    "\n"
   ]
  },
  {
   "cell_type": "markdown",
   "metadata": {
    "slideshow": {
     "slide_type": "slide"
    }
   },
   "source": [
    "### <center>Elementos básicos de programação - Repetição/*while* </center>\n",
    "\n",
    "# Exemplo *while* #2: Soma números (pares e impares)\n"
   ]
  },
  {
   "cell_type": "code",
   "execution_count": 46,
   "metadata": {},
   "outputs": [
    {
     "name": "stdout",
     "output_type": "stream",
     "text": [
      "Introduza um número (negativo para terminar):1\n",
      "Introduza um número (negativo para terminar):2\n",
      "Introduza um número (negativo para terminar):3\n",
      "Introduza um número (negativo para terminar):4\n",
      "Introduza um número (negativo para terminar):5\n",
      "Introduza um número (negativo para terminar):6\n",
      "Introduza um número (negativo para terminar):-1\n",
      "O resultado é 21 12 9\n"
     ]
    }
   ],
   "source": [
    "\n",
    "# Isto é um exemplo de while\n",
    "num = int(input('Introduza um número (negativo para terminar):'))\n",
    "\n",
    "# COMPLETAR\n",
    "# COMPLETAR \n",
    "\n",
    "\n"
   ]
  },
  {
   "cell_type": "markdown",
   "metadata": {
    "slideshow": {
     "slide_type": "slide"
    }
   },
   "source": [
    "### <center>Elementos básicos de programação - Repetição/*while* </center>\n",
    "\n",
    "# Exemplo *while* #3: Soma dos dígitos de um número\n"
   ]
  },
  {
   "cell_type": "code",
   "execution_count": 50,
   "metadata": {
    "slideshow": {
     "slide_type": "-"
    }
   },
   "outputs": [
    {
     "data": {
      "text/plain": [
       "0"
      ]
     },
     "execution_count": 50,
     "metadata": {},
     "output_type": "execute_result"
    }
   ],
   "source": [
    "num = int(input(\"Número? \"))\n",
    "soma = 0\n",
    "\n",
    "# COMPLETAR\n",
    "# COMPLETAR\n",
    "\n",
    "print(soma)"
   ]
  },
  {
   "cell_type": "markdown",
   "metadata": {
    "slideshow": {
     "slide_type": "slide"
    }
   },
   "source": [
    "### <center>Elementos básicos de programação - Repetição/*while* </center>\n",
    "\n",
    "## Exemplo *while* #4: Cálculo dos factores primos de um número inteiro\n",
    "\n",
    "<center><img src=\"imgs/example_primes.png\" width=\"30%\"></center>\n"
   ]
  },
  {
   "cell_type": "markdown",
   "metadata": {
    "slideshow": {
     "slide_type": "slide"
    }
   },
   "source": [
    "### <center>Elementos básicos de programação - Repetição/*while* </center>\n",
    "\n",
    "## Exemplo *while* #4 - Cálculo dos factores primos de um número inteiro\n",
    "\n",
    "<!--\n",
    "num = int(input(\"Escreva um inteiro: \"))\n",
    "\n",
    "divisor = 2\n",
    "print(\"Fatores Primos:\")\n",
    "\n",
    "while num != 1:\n",
    "    if num % divisor == 0:\n",
    "        print(divisor)\n",
    "        num = num // divisor\n",
    "    else:\n",
    "        divisor = divisor + 1\n",
    "\n",
    "-->"
   ]
  },
  {
   "cell_type": "code",
   "execution_count": 51,
   "metadata": {
    "scrolled": false
   },
   "outputs": [
    {
     "name": "stdout",
     "output_type": "stream",
     "text": [
      "Escreva um numero: 780\n",
      "2\n",
      "2\n",
      "3\n",
      "5\n",
      "13\n"
     ]
    }
   ],
   "source": [
    "num = int(input('Escreva um numero: '))\n",
    "div = 2\n",
    "\n",
    "# COMPLETAR\n",
    "# COMPLETAR\n"
   ]
  },
  {
   "cell_type": "markdown",
   "metadata": {
    "slideshow": {
     "slide_type": "slide"
    }
   },
   "source": [
    "### <center>Elementos básicos de programação - Repetição/*while* </center>\n",
    "\n",
    "# Exemplo *while* #5: Pares de divisores\n",
    "\n",
    "<!--\n",
    "n = int(input('Introduza um número inteiro: '))\n",
    "d = 1\n",
    "\n",
    "print('Os pares de divisores de', n, 'são')\n",
    "\n",
    "# print(1,'x',n)\n",
    "while d <= n: # Podemos melhor?\n",
    "    if n%d == 0:\n",
    "        print(d, 'x', n//d)\n",
    "    d = d + 1\n",
    "# -->"
   ]
  },
  {
   "cell_type": "code",
   "execution_count": 1,
   "metadata": {},
   "outputs": [
    {
     "name": "stdout",
     "output_type": "stream",
     "text": [
      "Introduza um número inteiro: 12\n",
      "Os pares de divisores de 12 são\n",
      "1 x 12\n",
      "2 x 6\n",
      "3 x 4\n",
      "4 x 3\n",
      "6 x 2\n",
      "12 x 1\n"
     ]
    }
   ],
   "source": [
    "n = int(input('Introduza um número inteiro: '))\n",
    "d = 1\n",
    "\n",
    "print('Os pares de divisores de', n, 'são')\n",
    "# \n",
    "# Completar\n",
    "# Completar\n",
    "# Completar\n",
    "# Completar\n"
   ]
  },
  {
   "cell_type": "markdown",
   "metadata": {
    "slideshow": {
     "slide_type": "slide"
    }
   },
   "source": [
    "## <center>Elementos básicos de programação - Tarefas próxima aula</center>\n",
    "\n",
    "<br>\n",
    "\n",
    "\n",
    "- Trabalhar matéria apresentada e completar exemplos\n",
    "- Ler capítulo 3 (Funções) do livro da UC\n",
    "- Nas aulas de problemas: \n",
    "    - **Ficha avalição BNF** no início da primeira aula laboratorial desta semana (L03)\n",
    "    - L03: Elementos básicos de programanção I: Expressões, tipos, predicados, condições, entrada e sáida\n",
    "    - L04: Elementos básicos de programanção II: Programas, seleção e reptição\n",
    "    \n",
    "\n",
    "<br>\n",
    "\n",
    "<center><img src=\"imgs/practice_book.png\" width=\"80%\"></center>\n",
    "\n",
    "\n"
   ]
  },
  {
   "cell_type": "code",
   "execution_count": null,
   "metadata": {},
   "outputs": [],
   "source": []
  }
 ],
 "metadata": {
  "celltoolbar": "Slideshow",
  "kernelspec": {
   "display_name": "Python 3 (ipykernel)",
   "language": "python",
   "name": "python3"
  },
  "language_info": {
   "codemirror_mode": {
    "name": "ipython",
    "version": 3
   },
   "file_extension": ".py",
   "mimetype": "text/x-python",
   "name": "python",
   "nbconvert_exporter": "python",
   "pygments_lexer": "ipython3",
   "version": "3.9.6"
  }
 },
 "nbformat": 4,
 "nbformat_minor": 2
}
