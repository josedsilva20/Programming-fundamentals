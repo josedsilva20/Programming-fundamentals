{
 "cells": [
  {
   "cell_type": "markdown",
   "metadata": {
    "slideshow": {
     "slide_type": "slide"
    }
   },
   "source": [
    "# <center>Fundamentos da Progamação </center>\n",
    "\n",
    "<br>\n",
    "<br>\n",
    "\n",
    "## <center>Aula 6</center>\n",
    "### <center>Elementos básicos de programação</center> \n",
    "\n",
    "##### <center>Programas, instruções e sequenciação. Execução condicional.</center>\n",
    "\n",
    "\n",
    "<br>\n",
    "<br>\n",
    "\n",
    "\n",
    "\n",
    "#### <center>Alberto Abad, IST, 2024-25</center>\n"
   ]
  },
  {
   "cell_type": "markdown",
   "metadata": {
    "slideshow": {
     "slide_type": "slide"
    }
   },
   "source": [
    "## <center>Interpretador de Python</center>\n",
    "\n",
    "<br>\n",
    "\n",
    "###  Modo programa (*script*)\n",
    "\n",
    "```bash\n",
    "alberto@macal ~ $ echo \"print('Hello world')\" > script.py\n",
    "alberto@macal ~ $ python script.py\n",
    "Hello world\n",
    "```\n",
    "\n",
    "\n",
    "<br>\n",
    "<br>\n",
    "<br>\n",
    "<br>\n",
    "<br>\n"
   ]
  },
  {
   "cell_type": "markdown",
   "metadata": {
    "slideshow": {
     "slide_type": "slide"
    }
   },
   "source": [
    "### <center>Elementos básicos de programação - Programas </center>\n",
    "\n",
    "## Programas\n",
    "\n",
    "- Sequência de instruções/expressões num *script*:\n",
    "\n",
    "```<programa> ::= <definições>* <instruções ou expressões>```\n",
    "\n",
    "<p><span style=\"color:red\">(Definições na quarta-feira)</span></p>\n",
    "\n",
    "\n",
    "- Instruções/expressões em \"linhas\" diferentes do script separadas pela tecla *RETURN*:\n",
    "\n",
    "`<instruções ou expressões> :== <instrução> NEWLINE |\n",
    "                                <expressão> NEWLINE |\n",
    "                                <instrução> NEWLINE <instruções ou expressões> |\n",
    "                                <expressão> NEWLINE <instruções ou expressões>`\n",
    "\n",
    "- Instrução vazia:\n",
    "\n",
    "\n",
    "`<instrução vazia> :==  `\n",
    "\n",
    "\n"
   ]
  },
  {
   "cell_type": "markdown",
   "metadata": {
    "slideshow": {
     "slide_type": "slide"
    }
   },
   "source": [
    "### <center>Elementos básicos de programação - Estruturas de controlo </center>\n",
    "\n",
    "<br/>\n",
    "\n",
    "## Sequênciação\n",
    "\n",
    "\n",
    "<center><img src=\"imgs/seq_flow.png\" width=\"20%\"></center>\n",
    "\n",
    "\n",
    "- Outras estrutas de controlo: **Seleção** e **Repetição**\n",
    "\n",
    "\n",
    "\n",
    "\n",
    "\n"
   ]
  },
  {
   "cell_type": "markdown",
   "metadata": {
    "slideshow": {
     "slide_type": "slide"
    }
   },
   "source": [
    "### <center>Elementos básicos de programação - Programa </center>\n",
    "\n",
    "\n",
    "# Exemplo Programa: Calculadora de preço com IVA\n",
    "\n",
    "<br/>\n",
    "\n",
    "```python\n",
    "valor = eval(input('Valor? '))\n",
    "iva = eval(input('IVA (%)? '))\n",
    "imposto = valor*iva/100\n",
    "print('Valor:', valor, 'Impostos:', imposto, 'PVP:', valor + imposto)\n",
    "```\n",
    "\n",
    "\n",
    "<br/>"
   ]
  },
  {
   "cell_type": "code",
   "execution_count": null,
   "metadata": {
    "slideshow": {
     "slide_type": "-"
    }
   },
   "outputs": [],
   "source": [
    "valor = eval(input('Valor? '))\n",
    "iva = eval(input('IVA (%)? '))\n",
    "imposto = valor*iva/100\n",
    "print('Valor:', valor, 'Impostos:', imposto, 'PVP:', valor + imposto)"
   ]
  },
  {
   "cell_type": "markdown",
   "metadata": {
    "slideshow": {
     "slide_type": "slide"
    }
   },
   "source": [
    "### <center>Elementos básicos de programação - Seleção </center>\n",
    "\n",
    "# Seleção BNF\n",
    "\n",
    "\n",
    "<br>\n",
    "\n",
    "`\n",
    "<instrução if> ::= if <condição>: NEWLINE\n",
    "                       <bloco de instruções>\n",
    "                   <outras alternativas>*\n",
    "                   {<alternativa final>}\n",
    "`\n",
    "<br>\n",
    "<br>\n",
    "\n",
    "`\n",
    "<outras alternativas> ::= elif <condição>: NEWLINE\n",
    "                              <bloco de instruções>\n",
    "`\n",
    "<br>\n",
    "<br>\n",
    "\n",
    "`\n",
    "<alternativa final> ::= else: NEWLINE\n",
    "                            <bloco de instruções>\n",
    "`\n",
    "<br>\n",
    "<br>\n",
    "\n",
    "`\n",
    "<bloco de instruções> ::= INDENT <instruções ou expressões> DEDENT\n",
    "`\n",
    "<br>\n",
    "<br>\n",
    "\n",
    "`\n",
    "<condição> ::= <expressão>\n",
    "`\n",
    "<br>\n",
    "<br>\n",
    "\n",
    "- *INDENT* indentação (TAB ou espaços); *DEDENT* desindentação \n"
   ]
  },
  {
   "cell_type": "markdown",
   "metadata": {
    "slideshow": {
     "slide_type": "slide"
    }
   },
   "source": [
    "### <center>Elementos básicos de programação - Seleção </center>\n",
    "\n",
    "## Fluxograma *if*\n",
    "\n",
    "<center><img src=\"imgs/if_flow.png\" width=\"80%\"></center>\n"
   ]
  },
  {
   "cell_type": "markdown",
   "metadata": {
    "slideshow": {
     "slide_type": "slide"
    }
   },
   "source": [
    "### <center>Elementos básicos de programação - Seleção </center>\n",
    "\n",
    "<br/>\n",
    " \n",
    "# Exemplo  *if* #1\n",
    "\n",
    "<br/>\n",
    "\n",
    "```python\n",
    "numero = int(input(\"Numero? \"))\n",
    "if numero % 2 == 0:\n",
    "    print('Par')\n",
    "print(\"Adeus\")\n",
    "```"
   ]
  },
  {
   "cell_type": "code",
   "execution_count": null,
   "metadata": {
    "slideshow": {
     "slide_type": "-"
    }
   },
   "outputs": [],
   "source": [
    "numero = int(input(\"Numero? \"))\n",
    "if numero % 2 == 0:\n",
    "        print('Par')\n",
    "print(\"Adeus\")"
   ]
  },
  {
   "cell_type": "markdown",
   "metadata": {
    "slideshow": {
     "slide_type": "slide"
    }
   },
   "source": [
    "### <center>Elementos básicos de programação - Seleção </center>\n",
    "\n",
    "<br/>\n",
    "\n",
    "#  Exemplo *if* #2\n",
    "<br/>\n",
    "\n",
    "```python\n",
    "numero = int(input(\"Numero? \"))\n",
    "if numero % 2 == 0:\n",
    "    print('Par')\n",
    "    print(\"Adeus\")\n",
    "```\n"
   ]
  },
  {
   "cell_type": "code",
   "execution_count": null,
   "metadata": {},
   "outputs": [],
   "source": [
    "numero = int(input(\"Numero? \"))\n",
    "if numero % 2 == 0:\n",
    "        print('Par')\n",
    "        print(\"Adeus\")"
   ]
  },
  {
   "cell_type": "markdown",
   "metadata": {
    "slideshow": {
     "slide_type": "slide"
    }
   },
   "source": [
    "### <center>Elementos básicos de programação - Seleção </center>\n",
    "\n",
    "# Fluxograma *if else* \n",
    "\n",
    "<center><img src=\"imgs/if_else_flow.png\" width=\"70%\"></center>\n"
   ]
  },
  {
   "cell_type": "markdown",
   "metadata": {
    "slideshow": {
     "slide_type": "slide"
    }
   },
   "source": [
    "### <center>Elementos básicos de programação - Seleção </center>\n",
    "\n",
    "\n",
    "#  Exemplo *if* #3\n",
    "```python\n",
    "numero = int(input(\"Numero? \"))\n",
    "if numero % 2 == 0:\n",
    "    print('Par')\n",
    "else:\n",
    "    print('Impar')\n",
    "print(\"Adeus\")\n",
    "```"
   ]
  },
  {
   "cell_type": "code",
   "execution_count": null,
   "metadata": {
    "slideshow": {
     "slide_type": "-"
    }
   },
   "outputs": [],
   "source": [
    "numero = int(input(\"Numero? \"))\n",
    "if numero % 2 == 0:\n",
    "    print('Par')\n",
    "else:\n",
    "    print('Impar')\n",
    "print(\"Adeus\")"
   ]
  },
  {
   "cell_type": "markdown",
   "metadata": {
    "slideshow": {
     "slide_type": "slide"
    }
   },
   "source": [
    "### <center>Elementos básicos de programação - Seleção </center>\n",
    "\n",
    "# Fluxograma *if elif else*\n",
    "\n",
    "<center><img src=\"imgs/if_elif_else_flow.png\" width=\"65%\"></center>\n",
    "\n"
   ]
  },
  {
   "cell_type": "markdown",
   "metadata": {
    "slideshow": {
     "slide_type": "slide"
    }
   },
   "source": [
    "### <center>Elementos básicos de programação - Seleção </center>\n",
    "\n",
    "# Exemplo *if* #4\n",
    "\n",
    "<br/>\n",
    "\n",
    "<!--\n",
    "nota = int(input('Introduzir nota?'))\n",
    "\n",
    "# Completar para printar mensagem de erro se o valor da nota fora inválido\n",
    "if nota<= 4:\n",
    "    print('Mau')\n",
    "elif nota <= 9:\n",
    "    print('Mediocre')\n",
    "elif nota <=13:\n",
    "    print('Suficiente')\n",
    "elif nota <=17:\n",
    "    print('Bom')\n",
    "else:\n",
    "    print('Excelente')\n",
    "-->"
   ]
  },
  {
   "cell_type": "code",
   "execution_count": null,
   "metadata": {
    "slideshow": {
     "slide_type": "-"
    }
   },
   "outputs": [],
   "source": [
    "nota = int(input('Escreva uma nota\\n?'))\n",
    "# Completar para printar mensagem de erro se o valor da nota fora inválido\n",
    " \n",
    "if nota <= 4:\n",
    "    print(\"Muito mau\")\n",
    "elif nota <= 9:\n",
    "    print(\"mediocre\")\n",
    "elif nota <= 13:\n",
    "    print(\"not bad\")\n",
    "elif nota <= 17:\n",
    "    print(\"bom\")\n",
    "else:\n",
    "    print(\"Muito bom\")\n"
   ]
  },
  {
   "cell_type": "markdown",
   "metadata": {
    "slideshow": {
     "slide_type": "slide"
    }
   },
   "source": [
    "### <center>Elementos básicos de programação - Seleção </center>\n",
    "\n",
    "# Exemplo *if* #5, Algoritmo: Maior de 2 números\n",
    "\n",
    "<br/>\n",
    "\n",
    "```\n",
    "Ler num1 e num2\n",
    "se num1 > num2\n",
    "    Escrever \"O primeiro número é maior\"\n",
    "senão\n",
    "    se num2 > num1\n",
    "        Escrever \"O segundo número é maior\"\n",
    "    senão\n",
    "        Escrever \"Os dois números são iguais\"\n",
    "```\n",
    "       "
   ]
  },
  {
   "cell_type": "code",
   "execution_count": null,
   "metadata": {
    "slideshow": {
     "slide_type": "-"
    }
   },
   "outputs": [],
   "source": [
    "num1 = int(input(\"Escreva um número:\"))\n",
    "num2 = int(input(\"Escreva outro número:\"))\n",
    "\n",
    "## COMPLETAR"
   ]
  },
  {
   "cell_type": "markdown",
   "metadata": {
    "slideshow": {
     "slide_type": "slide"
    }
   },
   "source": [
    "### <center>Elementos básicos de programação - Seleção </center>\n",
    "\n",
    "# Exemplo *if* #6: Números pares, impares, positivos e negativos\n",
    "\n",
    "<br/>\n",
    "- Ler número e mostrar mensagem diferente em função de se o númera par ou ímpar e positivo ou negativo"
   ]
  },
  {
   "cell_type": "code",
   "execution_count": null,
   "metadata": {},
   "outputs": [],
   "source": []
  },
  {
   "cell_type": "markdown",
   "metadata": {
    "slideshow": {
     "slide_type": "slide"
    }
   },
   "source": [
    "## <center>Elementos básicos de programação - Tarefas próxima aula</center>\n",
    "\n",
    "<br>\n",
    "\n",
    "\n",
    "- Trabalhar matéria apresentada e completar exemplos\n",
    "- Ler capítulo 2 (Sec 2.8 Repetição) do livro da UC\n",
    "- Nas aulas de problemas: \n",
    "    - **Ficha avalição BNF** no início da primeira aula laboratorial desta semana (L03)\n",
    "    - L03: Elementos básicos de programanção I: Expressões, tipos, predicados, condições, entrada e sáida\n",
    "    - L04: Elementos básicos de programanção II: Programas, seleção e reptição\n",
    "    \n",
    "\n",
    "<br>\n",
    "\n",
    "<center><img src=\"imgs/practice_book.png\" width=\"80%\"></center>\n",
    "\n",
    "\n"
   ]
  }
 ],
 "metadata": {
  "celltoolbar": "Slideshow",
  "kernelspec": {
   "display_name": "Python 3 (ipykernel)",
   "language": "python",
   "name": "python3"
  },
  "language_info": {
   "codemirror_mode": {
    "name": "ipython",
    "version": 3
   },
   "file_extension": ".py",
   "mimetype": "text/x-python",
   "name": "python",
   "nbconvert_exporter": "python",
   "pygments_lexer": "ipython3",
   "version": "3.9.6"
  }
 },
 "nbformat": 4,
 "nbformat_minor": 2
}
