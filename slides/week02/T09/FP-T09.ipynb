{
 "cells": [
  {
   "cell_type": "markdown",
   "metadata": {
    "slideshow": {
     "slide_type": "slide"
    }
   },
   "source": [
    "# <center>Fundamentos da Programação </center>\n",
    "\n",
    "<br>\n",
    "<br>\n",
    "\n",
    "## <center>Aula 9</center>\n",
    "#### <center> Funções </center>\n",
    "\n",
    "<center> Abstração procedimental. Erros. Módulos. Exemplos. </center>\n",
    "\n",
    "\n",
    "<br>\n",
    "<br>\n",
    "\n",
    "\n",
    "#### <center>Alberto Abad, IST, 2024-25</center>"
   ]
  },
  {
   "cell_type": "markdown",
   "metadata": {
    "slideshow": {
     "slide_type": "slide"
    }
   },
   "source": [
    "### <center> Funções </center>\n",
    "\n",
    "# Abstração procedimental\n",
    "\n",
    "- As funções permitem aos programadores pensar no **que** (faz a função) e não no  **como** (a função é implementada).\n",
    "\n",
    "## Exemplo #1\n",
    "\n",
    "```python\n",
    "def soma_prog_arit(n):\n",
    "    iter = 1\n",
    "    soma = 0\n",
    "    while iter <= n:\n",
    "        soma = soma + iter\n",
    "        iter = iter + 1\n",
    "    return soma\n",
    "```    \n",
    "   \n",
    "```python\n",
    "def soma_prog_arit(n):\n",
    "    if n < 1:\n",
    "        return 0\n",
    "    else:\n",
    "        return n*(n+1)//2\n",
    "```"
   ]
  },
  {
   "cell_type": "markdown",
   "metadata": {
    "slideshow": {
     "slide_type": "slide"
    }
   },
   "source": [
    "### <center> Funções </center>\n",
    "\n",
    "# Abstração procedimental\n",
    "\n",
    "- As funções permitem aos programadores pensar no **que** (faz a função) e não no  **como** (a função é implementada).\n",
    "\n",
    "## Exemplo #2\n",
    "\n",
    "```python\n",
    "def quadrado(x):\n",
    "    return x * x\n",
    "```    \n",
    "   \n",
    "```python\n",
    "def quadrado(n):\n",
    "    pass # complete\n",
    "```"
   ]
  },
  {
   "cell_type": "code",
   "execution_count": 4,
   "metadata": {},
   "outputs": [
    {
     "name": "stdout",
     "output_type": "stream",
     "text": [
      "None 16 16 16\n"
     ]
    }
   ],
   "source": [
    "def quadrado_v1(x):\n",
    "    pass\n",
    "\n",
    "\n",
    "def quadrado_v2(x): # **\n",
    "    return x**2\n",
    "\n",
    "def quadrado_v3(x): # pow\n",
    "    return pow(x, 2)\n",
    "\n",
    "def quadrado_v4(x): # iter\n",
    "    soma, n = 0, x\n",
    "    while n > 0:\n",
    "        soma += x\n",
    "        n -= 1\n",
    "    return soma\n",
    "    \n",
    "    \n",
    "print(quadrado_v1(4), quadrado_v2(4), quadrado_v3(4), quadrado_v4(4))\n",
    "    "
   ]
  },
  {
   "cell_type": "markdown",
   "metadata": {
    "slideshow": {
     "slide_type": "slide"
    }
   },
   "source": [
    "### <center> Funções </center>\n",
    "\n",
    "# Erros/Excepções\n",
    "\n",
    "- Nas aulas anteriores falamos dos tipos de erros: sintaxe, semântica e _runtime_\n",
    "- As funções podem _lançar_ erros quando os argumentos utilizados são de tipo inválido e/ou estão fora do dominio.\n",
    "    - As excepções **interrompen o fluxo de execução**, o que não acontece se fizermos um simples _print_ \n",
    "- Para isso podemos utilizar a instrução _raise_ que gera um erro de execução, em BNF:\n",
    "\n",
    "```\n",
    "<instrução raise> ::= raise <nome>(<mensagem>)\n",
    "\n",
    "<mensagem> ::= <cadeia de caracteres>\n",
    "```\n",
    "\n",
    "- _nome_ corresponde  à identificação de um dos tipos de erros (ou excepções) conhecidos pelo Python (ou a novos tipos de erros definidos pelo programador): \n",
    "[AttributeError](https://docs.python.org/3/library/exceptions.html#AttributeError), [IndexError](https://docs.python.org/3/library/exceptions.html#IndexError), [KeyError](https://docs.python.org/3/library/exceptions.html#KeyError), [NameError](https://docs.python.org/3/library/exceptions.html#NameError), [SyntaxError](https://docs.python.org/3/library/exceptions.html#SyntaxError), [ValueError](https://docs.python.org/3/library/exceptions.html#ValueError) e [ZeroDivisionError](https://docs.python.org/3/library/exceptions.html#ZeroDivisionError).\n",
    "\n"
   ]
  },
  {
   "cell_type": "markdown",
   "metadata": {
    "slideshow": {
     "slide_type": "slide"
    }
   },
   "source": [
    "### <center> Funções </center>\n",
    "\n",
    "# Erros/Excepções\n",
    "\n",
    "<center><img src=\"imgs/erros.png\" width=\"60%\"></center>\n",
    "\n",
    "- Python (como outras linguagens) fornecem um _protocol_ para tratar das excepções (*try*/*except*) que veremos nas próximas semanas"
   ]
  },
  {
   "cell_type": "markdown",
   "metadata": {
    "slideshow": {
     "slide_type": "slide"
    }
   },
   "source": [
    "### <center> Funções </center>\n",
    "\n",
    "# Erros/Excepções, Exemplo:\n",
    "\n",
    "<!--\n",
    "```python\n",
    "def inverte(n):\n",
    "    if not (type(n) == int or type(n) == float):\n",
    "        raise ValueError(\"Erro: Tipos invalidos\")\n",
    "    elif n == 0:\n",
    "        raise ValueError(\"Erro: Divisão por 0\")\n",
    "    return 1/n\n",
    "```\n",
    "-->"
   ]
  },
  {
   "cell_type": "code",
   "execution_count": 13,
   "metadata": {},
   "outputs": [
    {
     "ename": "ZeroDivisionError",
     "evalue": "argumento errado: nao pode ser 0",
     "output_type": "error",
     "traceback": [
      "\u001b[0;31m---------------------------------------------------------------------------\u001b[0m",
      "\u001b[0;31mZeroDivisionError\u001b[0m                         Traceback (most recent call last)",
      "Cell \u001b[0;32mIn [13], line 10\u001b[0m\n\u001b[1;32m      7\u001b[0m     \u001b[38;5;28;01mreturn\u001b[39;00m \u001b[38;5;241m1\u001b[39m\u001b[38;5;241m/\u001b[39mx\n\u001b[1;32m      9\u001b[0m \u001b[38;5;66;03m#invocação/chamada\u001b[39;00m\n\u001b[0;32m---> 10\u001b[0m \u001b[43minverte\u001b[49m\u001b[43m(\u001b[49m\u001b[38;5;241;43m0\u001b[39;49m\u001b[43m)\u001b[49m\n",
      "Cell \u001b[0;32mIn [13], line 6\u001b[0m, in \u001b[0;36minverte\u001b[0;34m(x)\u001b[0m\n\u001b[1;32m      4\u001b[0m     \u001b[38;5;28;01mraise\u001b[39;00m \u001b[38;5;167;01mValueError\u001b[39;00m(\u001b[38;5;124m\"\u001b[39m\u001b[38;5;124margumentos invalidos: precisa ser um número\u001b[39m\u001b[38;5;124m\"\u001b[39m)\n\u001b[1;32m      5\u001b[0m \u001b[38;5;28;01melif\u001b[39;00m x\u001b[38;5;241m==\u001b[39m \u001b[38;5;241m0\u001b[39m:\n\u001b[0;32m----> 6\u001b[0m     \u001b[38;5;28;01mraise\u001b[39;00m \u001b[38;5;167;01mZeroDivisionError\u001b[39;00m(\u001b[38;5;124m\"\u001b[39m\u001b[38;5;124margumento errado: nao pode ser 0\u001b[39m\u001b[38;5;124m\"\u001b[39m)\n\u001b[1;32m      7\u001b[0m \u001b[38;5;28;01mreturn\u001b[39;00m \u001b[38;5;241m1\u001b[39m\u001b[38;5;241m/\u001b[39mx\n",
      "\u001b[0;31mZeroDivisionError\u001b[0m: argumento errado: nao pode ser 0"
     ]
    }
   ],
   "source": [
    "## Definição da função\n",
    "def inverte(x):\n",
    "    return 1/x\n",
    "\n",
    "#invocação/chamada\n",
    "inverte(20)"
   ]
  },
  {
   "cell_type": "markdown",
   "metadata": {
    "slideshow": {
     "slide_type": "slide"
    }
   },
   "source": [
    "### <center> Funções </center>\n",
    "\n",
    "# Módulos: Importar \n",
    "\n",
    "- Não é preciso reinventar a roda, Python fornece um grande número de bibliotecas (*libraries*) ou módulos com funções que podemos importar:\n",
    "- Lista de módulos disponíveis por omissão: https://docs.python.org/3/py-modindex.html \n",
    "\n",
    "```\n",
    "<instrução import> ::=\n",
    "    import <módulo> {as <nome>} NEWLINE |\n",
    "    from <módulo> import <nomes a importar> NEWLINE\n",
    "\n",
    "<módulo> ::= <nome>\n",
    "\n",
    "<nomes a importar> ::= * | <nomes>\n",
    "\n",
    "<nomes> ::= <nome> | <nome>, <nomes>\n",
    "```"
   ]
  },
  {
   "cell_type": "markdown",
   "metadata": {
    "slideshow": {
     "slide_type": "slide"
    }
   },
   "source": [
    "### <center> Funções </center>\n",
    "\n",
    "# Módulos: Aceder funções dum módulo  \n",
    "\n",
    "\n",
    "- Necessário no caso de _import_ (sem *from*):\n",
    "```\n",
    "<composed name> ::= <simple name>.<simple name>\n",
    "```\n",
    "### Exemplos:\n",
    "\n",
    "```python\n",
    ">>> import math\n",
    ">>> math.pi\n",
    "3.141592653589793\n",
    ">>> math.sin(math.pi/2)\n",
    "1.0\n",
    "```\n",
    "\n",
    "```python\n",
    ">>> from math import pi, sin\n",
    ">>> pi\n",
    "3.141592653589793\n",
    ">>> sin(pi/2)\n",
    "1.0\n",
    "```"
   ]
  },
  {
   "cell_type": "code",
   "execution_count": 25,
   "metadata": {},
   "outputs": [
    {
     "data": {
      "text/plain": [
       "1.2246467991473532e-16"
      ]
     },
     "execution_count": 25,
     "metadata": {},
     "output_type": "execute_result"
    }
   ],
   "source": [
    "math.sin(pi)"
   ]
  },
  {
   "cell_type": "markdown",
   "metadata": {
    "slideshow": {
     "slide_type": "slide"
    }
   },
   "source": [
    "### <center> Funções </center>\n",
    "# Módulos: Construir módulos\n",
    "\n",
    "- Colocar funções num ficheiro _.py_ (ex: fp_utils.py)\n",
    "- Importar utilizando o nome do ficheiro/módulo (sem extensão):\n",
    "\n",
    "```python\n",
    ">>> import fp_utils\n",
    ">>> fp_utils.soma_prog_arit(100)\n",
    "5050\n",
    "```"
   ]
  },
  {
   "cell_type": "code",
   "execution_count": null,
   "metadata": {},
   "outputs": [],
   "source": []
  },
  {
   "cell_type": "markdown",
   "metadata": {
    "slideshow": {
     "slide_type": "slide"
    }
   },
   "source": [
    "### <center> Funções </center>\n",
    "# Funções e parâmetros em Python ++ (opcional)\n",
    "\n",
    "- Python permite maior flexibilidade na definição e passagem dos parâmetros duma função:\n",
    "    - **Default parameters** \n",
    "    - **Keyword arguments**\n",
    "    - Número variável de parâmetros posicionais e keyword (não nesta disciplina)"
   ]
  },
  {
   "cell_type": "code",
   "execution_count": null,
   "metadata": {},
   "outputs": [],
   "source": [
    "def dividir(num, den):\n",
    "    return num/den\n",
    "\n",
    "print(\"Ex1:\", dividir(10,2))\n",
    "print(\"Ex2:\", dividir(10))\n",
    "print(\"Ex3:\", dividir())\n",
    "print(\"Ex4:\", dividir(den=4))"
   ]
  },
  {
   "cell_type": "markdown",
   "metadata": {
    "slideshow": {
     "slide_type": "slide"
    }
   },
   "source": [
    "# <center> A treinar mais!!!!</center>\n"
   ]
  },
  {
   "cell_type": "markdown",
   "metadata": {
    "slideshow": {
     "slide_type": "slide"
    }
   },
   "source": [
    "### <center> Funções </center>\n",
    "\n",
    "\n",
    "# Exemplo 1, Tabela conversão temperaturas\n",
    "- Escreva uma função que converta temperaturas de Fahrenheit para Celsius $C = 5*(F-32)/9$\n",
    "- Escreva uma função que recebe uma temperatura mínima e máxima (inteiros) em Fahrenheit e imprime a tabela de conversão para Celsius\n",
    "\n",
    "<!--\n",
    "def far_para_cent(F):\n",
    "    return round(5 * (F - 32) / 9)\n",
    "\n",
    "min = eval(input(’Qual a temperatura minima?\\n? ’)) \n",
    "max = eval(input(’Qual a temperatura maxima?\\n? ’))\n",
    "\n",
    "while min <= max:\n",
    "    print(min, ’=’, far_para_cent(min))\n",
    "    min = min + 1\n",
    "-->"
   ]
  },
  {
   "cell_type": "code",
   "execution_count": null,
   "metadata": {},
   "outputs": [],
   "source": [
    "def fahr_para_cent(fahr):\n",
    "    pass\n",
    "    \n",
    "def tabela(min_f, max_f):\n",
    "    pass\n",
    "    \n",
    "tabela(40, 50)\n"
   ]
  },
  {
   "cell_type": "markdown",
   "metadata": {
    "slideshow": {
     "slide_type": "slide"
    }
   },
   "source": [
    "### <center> Funções </center>\n",
    "\n",
    "\n",
    "# Exemplo 2, Potência de dois números inteiros\n",
    "\n",
    "\n",
    "<!-- \n",
    "# Power of two numbers inteiros\n",
    "def potencia(x, k):\n",
    "    if k < 0:\n",
    "        raise ValueError('potencia: exponente k negativo')\n",
    "    elif type(k) != int:\n",
    "        raise ValueError('potencia: exponente k nao inteiro')\n",
    "    elif type(x) != int:\n",
    "        raise ValueError('potencia: exponente x nao é um inteiro')\n",
    "\n",
    "    product = 1\n",
    "    \n",
    "    while k > 0:\n",
    "        product = product*x\n",
    "        k = k - 1\n",
    "        \n",
    "    return product\n",
    "   \n",
    "print(potencia(3, 4))\n",
    "\n",
    "-->\n"
   ]
  },
  {
   "cell_type": "markdown",
   "metadata": {},
   "source": [
    "- Solução iterativa para `k` positivos\n",
    "- E para `k` negativos?\n",
    "- E para qualquer `k`?"
   ]
  },
  {
   "cell_type": "code",
   "execution_count": 7,
   "metadata": {},
   "outputs": [
    {
     "name": "stdout",
     "output_type": "stream",
     "text": [
      "Escreva a base da potencia: 2\n",
      "Escreva a potencia: -4\n",
      "0.0625\n"
     ]
    }
   ],
   "source": [
    "def potencia(x, n):\n",
    "    pass\n",
    "    \n",
    "# Power of two numbers inteiros\n",
    "x = eval(input(\"Escreva a base da potencia: \"))\n",
    "n = eval(input(\"Escreva a potencia: \"))\n",
    "\n",
    "\n",
    "print(potencia(x, n))"
   ]
  },
  {
   "cell_type": "markdown",
   "metadata": {
    "slideshow": {
     "slide_type": "slide"
    }
   },
   "source": [
    "### <center> Funções </center>\n",
    "\n",
    "\n",
    "# Exemplo 3, Factorial\n",
    "- Para números inteiros não negativos (`fact(0) = 1`) iterativo\n",
    "\n",
    "<!--\n",
    "\n",
    "# factorial\n",
    "def factorial(n):\n",
    "    if type(n) != int:\n",
    "        raise ValueError(\"Não inteiro!\")\n",
    "    elif n < 0:\n",
    "        raise ValueError(\"Negativo!\")\n",
    "    \n",
    "    f, i = 1, 1\n",
    "    while i <= n:\n",
    "        f = f * i\n",
    "        i = i + 1\n",
    "    return f\n",
    "\n",
    "    # Alternativa\n",
    "    # f = 1\n",
    "    # while n > 0:\n",
    "    #     f = f * n\n",
    "    #     n = n - 1\n",
    "    # return f\n",
    "\n",
    "x = eval(input(\"Inteiro: \"))\n",
    "f = factorial(x)\n",
    "print(f)\n",
    "    \n",
    "-->"
   ]
  },
  {
   "cell_type": "code",
   "execution_count": null,
   "metadata": {},
   "outputs": [],
   "source": [
    "def factorial(x):\n",
    "    pass\n",
    "\n",
    "\n",
    "x = eval(input('Inteiro: '))\n",
    "f = factorial(x)\n",
    "print(f)\n"
   ]
  },
  {
   "cell_type": "markdown",
   "metadata": {
    "slideshow": {
     "slide_type": "slide"
    }
   },
   "source": [
    "## <center>Funções - Tarefas próxima aula</center>\n",
    "\n",
    "<br>\n",
    "\n",
    "\n",
    "- Trabalhar matéria apresentada hoje\n",
    "- Fazer todos os exercícios/programas \n",
    "\n",
    "<br>\n",
    "\n",
    "<center><img src=\"imgs/practice_book.png\" width=\"80%\"></center>\n",
    "\n",
    "\n"
   ]
  }
 ],
 "metadata": {
  "celltoolbar": "Slideshow",
  "kernelspec": {
   "display_name": "Python 3 (ipykernel)",
   "language": "python",
   "name": "python3"
  },
  "language_info": {
   "codemirror_mode": {
    "name": "ipython",
    "version": 3
   },
   "file_extension": ".py",
   "mimetype": "text/x-python",
   "name": "python",
   "nbconvert_exporter": "python",
   "pygments_lexer": "ipython3",
   "version": "3.9.6"
  }
 },
 "nbformat": 4,
 "nbformat_minor": 2
}
